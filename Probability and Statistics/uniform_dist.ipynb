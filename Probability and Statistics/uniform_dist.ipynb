{
 "cells": [
  {
   "attachments": {},
   "cell_type": "markdown",
   "metadata": {},
   "source": [
    "Random Number Generator (Uniform Distribution)"
   ]
  },
  {
   "cell_type": "code",
   "execution_count": 2,
   "metadata": {},
   "outputs": [
    {
     "name": "stdout",
     "output_type": "stream",
     "text": [
      "0.6018652177947861\n"
     ]
    }
   ],
   "source": [
    "import random\n",
    "print(random.random()) # it gives us a value b/w 0 and 1 [Uniform dist. U[0,1]]"
   ]
  },
  {
   "cell_type": "code",
   "execution_count": 3,
   "metadata": {},
   "outputs": [
    {
     "data": {
      "text/plain": [
       "(150, 4)"
      ]
     },
     "execution_count": 3,
     "metadata": {},
     "output_type": "execute_result"
    }
   ],
   "source": [
    "# load iris dataset with 150 points\n",
    "from sklearn import datasets\n",
    "iris = datasets.load_iris()\n",
    "dt = iris.data\n",
    "dt.shape"
   ]
  },
  {
   "cell_type": "code",
   "execution_count": 21,
   "metadata": {},
   "outputs": [
    {
     "data": {
      "text/plain": [
       "24"
      ]
     },
     "execution_count": 21,
     "metadata": {},
     "output_type": "execute_result"
    }
   ],
   "source": [
    "# sample 30 points randomly from the 150 point dataset\n",
    "\n",
    "n = 150\n",
    "m = 30\n",
    "prob = m/n\n",
    "\n",
    "sampled_data = []\n",
    "\n",
    "for row in range(0, n):\n",
    "    if random.random() <= prob:\n",
    "        sampled_data.append(dt[row]) # random.random is less than equal to 0.2 (m/n= 1/5; 20%)\n",
    "'''\n",
    "prob = 0.2\n",
    "D = x1, x2, ....x150\n",
    "D` = x`1, x`2, ... x`30\n",
    "\n",
    "since we have 150 points and we want to generate a dataset with 30 points. what is the probability of each point belonging\n",
    "to our dataset D`. It should be 30/150 because we want all of them have the same probability.\n",
    "'''\n",
    "len(sampled_data)"
   ]
  },
  {
   "attachments": {},
   "cell_type": "markdown",
   "metadata": {},
   "source": [
    "roughly 30 samples from out total dataset"
   ]
  }
 ],
 "metadata": {
  "kernelspec": {
   "display_name": "venv",
   "language": "python",
   "name": "python3"
  },
  "language_info": {
   "codemirror_mode": {
    "name": "ipython",
    "version": 3
   },
   "file_extension": ".py",
   "mimetype": "text/x-python",
   "name": "python",
   "nbconvert_exporter": "python",
   "pygments_lexer": "ipython3",
   "version": "3.10.0"
  },
  "orig_nbformat": 4,
  "vscode": {
   "interpreter": {
    "hash": "a757f5c16a5c65c91546f94557507ee40f554eac757d5cc94a7c17d8ae3d0666"
   }
  }
 },
 "nbformat": 4,
 "nbformat_minor": 2
}
