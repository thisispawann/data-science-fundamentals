{
 "cells": [
  {
   "attachments": {},
   "cell_type": "markdown",
   "metadata": {},
   "source": [
    "Analyzing amazon data science books dataset\n",
    "\n",
    "- Author: Pawan Kumar Shrestha\n",
    "  \n",
    "- Date: 29 December 2022\n",
    "\n",
    "Dataset:\n",
    "\n",
    "This project uses the Data Science books dataset available on Kaggle https://www.kaggle.com/datasets/die9origephit/amazon-data-science-books\n",
    "\n",
    "To-do List:\n",
    "\n",
    "1. EDA: Do more expensive books have better review?\n",
    "   \n",
    "2. EDA: Do longer book pages have higher pages?\n",
    "\n",
    "3. What are the best Python and Machine Learning books?\n",
    "\n",
    "4. Cluster analysis of book names using TF-IDF and K-means"
   ]
  },
  {
   "cell_type": "code",
   "execution_count": null,
   "metadata": {},
   "outputs": [],
   "source": []
  }
 ],
 "metadata": {
  "language_info": {
   "name": "python"
  },
  "orig_nbformat": 4
 },
 "nbformat": 4,
 "nbformat_minor": 2
}
