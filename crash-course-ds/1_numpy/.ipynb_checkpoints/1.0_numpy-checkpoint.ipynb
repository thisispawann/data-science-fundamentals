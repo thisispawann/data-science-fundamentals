{
 "cells": [
  {
   "cell_type": "code",
   "execution_count": 1,
   "id": "e1cdc1be-5ea0-454a-8b4a-b80dfa5ab39c",
   "metadata": {},
   "outputs": [
    {
     "name": "stdout",
     "output_type": "stream",
     "text": [
      "Requirement already satisfied: numpy in d:\\all programs\\anaconda\\envs\\data\\lib\\site-packages (1.24.1)\n",
      "Note: you may need to restart the kernel to use updated packages.\n"
     ]
    }
   ],
   "source": [
    "pip install numpy"
   ]
  },
  {
   "cell_type": "code",
   "execution_count": 2,
   "id": "fb4dd98e-2140-420d-9b31-c973797e5b70",
   "metadata": {},
   "outputs": [],
   "source": [
    "import numpy as np"
   ]
  },
  {
   "cell_type": "code",
   "execution_count": 3,
   "id": "57dd8712-aac7-4435-90b8-fb738c15e946",
   "metadata": {},
   "outputs": [
    {
     "name": "stdout",
     "output_type": "stream",
     "text": [
      "[1 2 3 4 5 6 7]\n",
      "int32\n",
      "4\n"
     ]
    }
   ],
   "source": [
    "arr = np.array([1,2,3,4,5,6,7])\n",
    "print(arr)\n",
    "print(arr.dtype)\n",
    "print(arr.dtype.itemsize)"
   ]
  },
  {
   "cell_type": "code",
   "execution_count": 4,
   "id": "dace786a-cff7-492d-a478-0388a5abf1dd",
   "metadata": {},
   "outputs": [
    {
     "name": "stdout",
     "output_type": "stream",
     "text": [
      "['Green' 'White' 'Blue']\n",
      "<U5\n",
      "20\n"
     ]
    }
   ],
   "source": [
    "arr = np.array([\"Green\", \"White\", \"Blue\"])\n",
    "print(arr)\n",
    "print(arr.dtype)\n",
    "print(arr.dtype.itemsize)"
   ]
  },
  {
   "cell_type": "code",
   "execution_count": 5,
   "id": "88762c5f-da86-46d4-9d97-346ec1a11a1e",
   "metadata": {},
   "outputs": [
    {
     "name": "stdout",
     "output_type": "stream",
     "text": [
      "['1999-08-27' '1979-06-02' '1992-01-23']\n",
      "<U10\n",
      "40\n"
     ]
    }
   ],
   "source": [
    "arr = np.array([\"1999-08-27\", \"1979-06-02\", \"1992-01-23\"])\n",
    "print (arr)\n",
    "print (arr.dtype)\n",
    "print (arr.dtype.itemsize)"
   ]
  },
  {
   "cell_type": "code",
   "execution_count": 6,
   "id": "73be0929-efc9-4495-a1af-32f3d198f98d",
   "metadata": {},
   "outputs": [
    {
     "name": "stdout",
     "output_type": "stream",
     "text": [
      "datetime64[D]\n",
      "8\n"
     ]
    }
   ],
   "source": [
    "# convert data types\n",
    "arr1 = arr.astype(\"M\")\n",
    "print (arr1.dtype)\n",
    "print (arr1.dtype.itemsize)"
   ]
  },
  {
   "cell_type": "code",
   "execution_count": 7,
   "id": "2a2401ed-6c6c-4fc7-b2ce-b23a2805e44e",
   "metadata": {},
   "outputs": [
    {
     "name": "stdout",
     "output_type": "stream",
     "text": [
      "['1999-08-27' '1979-06-02' '1992-01-23']\n",
      "datetime64[D]\n",
      "8\n"
     ]
    }
   ],
   "source": [
    "arr = np.array([\"1999-08-27\", \"1979-06-02\", \"1992-01-23\"], dtype = \"M\")\n",
    "print (arr)\n",
    "print (arr.dtype)\n",
    "print (arr.dtype.itemsize)"
   ]
  },
  {
   "cell_type": "code",
   "execution_count": 8,
   "id": "8e50e88f-f8ba-46c4-8f6a-4bcaa9fa119d",
   "metadata": {},
   "outputs": [
    {
     "data": {
      "text/plain": [
       "numpy.ndarray"
      ]
     },
     "execution_count": 8,
     "metadata": {},
     "output_type": "execute_result"
    }
   ],
   "source": [
    "# Creating numpy array\n",
    "num_list = [1, 2, 3, 5, 8]\n",
    "num_array = np.array(num_list)\n",
    "type(num_array)\n"
   ]
  },
  {
   "cell_type": "code",
   "execution_count": 9,
   "id": "5b1ef5e9-7b77-4028-b98b-b85a00118615",
   "metadata": {},
   "outputs": [
    {
     "name": "stdout",
     "output_type": "stream",
     "text": [
      "[[  1   2   3]\n",
      " [ 10  20  30]\n",
      " [100 200 300]]\n",
      "(3, 3)\n"
     ]
    }
   ],
   "source": [
    "row1 = [ 1 , 2 , 3 ]\n",
    "row2 = [ 10 , 20 , 30 ]\n",
    "row3 = [ 100 , 200 , 300 ]\n",
    "\n",
    "num_2d = np.array([row1, row2, row3])\n",
    "print(num_2d)\n",
    "print(num_2d.shape)"
   ]
  },
  {
   "cell_type": "code",
   "execution_count": 10,
   "id": "4555b6b4-dcf5-4c0d-914b-f97fcfada6b4",
   "metadata": {},
   "outputs": [
    {
     "name": "stdout",
     "output_type": "stream",
     "text": [
      "[ 1  2  3  4  5  6  7  8  9 10]\n"
     ]
    }
   ],
   "source": [
    "# arange method\n",
    "num_arr = np.arange(1,11)\n",
    "print(num_arr)"
   ]
  },
  {
   "cell_type": "code",
   "execution_count": 11,
   "id": "0beaad6a-735e-4219-ab90-483311a11c55",
   "metadata": {},
   "outputs": [
    {
     "data": {
      "text/plain": [
       "array([1, 3, 5, 7, 9])"
      ]
     },
     "execution_count": 11,
     "metadata": {},
     "output_type": "execute_result"
    }
   ],
   "source": [
    "# step size of 2\n",
    "num_arr = np.arange(1, 11, 2)\n",
    "num_arr"
   ]
  },
  {
   "cell_type": "code",
   "execution_count": 12,
   "id": "53aec36a-b91e-4db8-ba55-a5fbe11d0c3d",
   "metadata": {},
   "outputs": [
    {
     "data": {
      "text/plain": [
       "array([1., 1., 1., 1.])"
      ]
     },
     "execution_count": 12,
     "metadata": {},
     "output_type": "execute_result"
    }
   ],
   "source": [
    "# Ones method\n",
    "one_arr = np.ones(4)\n",
    "one_arr"
   ]
  },
  {
   "cell_type": "code",
   "execution_count": 13,
   "id": "aa20a982-02b3-4560-8471-2ed5882f6096",
   "metadata": {},
   "outputs": [
    {
     "data": {
      "text/plain": [
       "array([[1., 1., 1.],\n",
       "       [1., 1., 1.]])"
      ]
     },
     "execution_count": 13,
     "metadata": {},
     "output_type": "execute_result"
    }
   ],
   "source": [
    "one_arr1 = np.ones((2, 3))\n",
    "one_arr1"
   ]
  },
  {
   "cell_type": "code",
   "execution_count": 14,
   "id": "ffe862d0-f4a5-4b41-9a5e-7a48b7966bc0",
   "metadata": {},
   "outputs": [
    {
     "data": {
      "text/plain": [
       "array([[0., 0., 0.],\n",
       "       [0., 0., 0.]])"
      ]
     },
     "execution_count": 14,
     "metadata": {},
     "output_type": "execute_result"
    }
   ],
   "source": [
    "zero_arr = np.zeros((2, 3))\n",
    "zero_arr"
   ]
  },
  {
   "cell_type": "code",
   "execution_count": 15,
   "id": "683a950d-f072-4c31-a64e-2fa8706d50d2",
   "metadata": {},
   "outputs": [
    {
     "data": {
      "text/plain": [
       "array([[1., 0., 0.],\n",
       "       [0., 1., 0.],\n",
       "       [0., 0., 1.]])"
      ]
     },
     "execution_count": 15,
     "metadata": {},
     "output_type": "execute_result"
    }
   ],
   "source": [
    "# Eye method\n",
    "eye_arr = np.eye(3)\n",
    "eye_arr"
   ]
  },
  {
   "cell_type": "code",
   "execution_count": 16,
   "id": "01f015ad-ea0a-4676-89fe-4f586d91f1c8",
   "metadata": {},
   "outputs": [
    {
     "data": {
      "text/plain": [
       "array([[0.08532656, 0.48847545, 0.41533466],\n",
       "       [0.0985806 , 0.39682006, 0.19393473]])"
      ]
     },
     "execution_count": 16,
     "metadata": {},
     "output_type": "execute_result"
    }
   ],
   "source": [
    "# random method\n",
    "uniform_random = np.random.rand(2,3)\n",
    "uniform_random"
   ]
  },
  {
   "cell_type": "code",
   "execution_count": 17,
   "id": "a1d4dca9-eabd-43b6-98b4-2aa2f2a71e2a",
   "metadata": {},
   "outputs": [
    {
     "data": {
      "text/plain": [
       "array([[-1.08780002, -0.45230933, -0.75012529,  0.34522603],\n",
       "       [-0.13998072, -0.57689991, -0.78067768,  0.36506831],\n",
       "       [-0.10836673,  3.18162288,  0.1070743 , -1.11482573]])"
      ]
     },
     "execution_count": 17,
     "metadata": {},
     "output_type": "execute_result"
    }
   ],
   "source": [
    "normal_random = np.random.randn(3, 4)\n",
    "normal_random"
   ]
  },
  {
   "cell_type": "code",
   "execution_count": 18,
   "id": "a9e7454c-9fac-4e45-a2fb-229129770bfe",
   "metadata": {},
   "outputs": [
    {
     "data": {
      "text/plain": [
       "array([20, 22, 21, 12, 19])"
      ]
     },
     "execution_count": 18,
     "metadata": {},
     "output_type": "execute_result"
    }
   ],
   "source": [
    "int_random = np.random.randint(1, 30, 5)\n",
    "int_random"
   ]
  },
  {
   "cell_type": "code",
   "execution_count": 19,
   "id": "d8429c33-a61e-40e4-a08d-035f2a9449c5",
   "metadata": {},
   "outputs": [
    {
     "data": {
      "text/plain": [
       "array([ 2, 10, 15, 13, 29])"
      ]
     },
     "execution_count": 19,
     "metadata": {},
     "output_type": "execute_result"
    }
   ],
   "source": [
    "# printing numpy arrays\n",
    "arr = np.array([2, 10, 15, 13, 29])\n",
    "arr"
   ]
  },
  {
   "cell_type": "code",
   "execution_count": 20,
   "id": "0d683055-89f6-46ca-a4f6-7c9af83dd5e7",
   "metadata": {},
   "outputs": [
    {
     "name": "stdout",
     "output_type": "stream",
     "text": [
      "1\n",
      "(5,)\n"
     ]
    }
   ],
   "source": [
    "print(arr.ndim)\n",
    "print(arr.shape)"
   ]
  },
  {
   "cell_type": "code",
   "execution_count": 21,
   "id": "3a967b2c-cccf-4a71-8c01-ff704d1e1f20",
   "metadata": {},
   "outputs": [
    {
     "name": "stdout",
     "output_type": "stream",
     "text": [
      "2\n",
      "10\n",
      "15\n",
      "13\n",
      "29\n"
     ]
    }
   ],
   "source": [
    "# single foreach loop\n",
    "for row in arr:\n",
    "    print(row)"
   ]
  },
  {
   "cell_type": "code",
   "execution_count": 22,
   "id": "1c210df6-7036-4ce1-8fb5-d9a67d0ed9d0",
   "metadata": {},
   "outputs": [
    {
     "data": {
      "text/plain": [
       "array([[ 9,  2,  8,  6,  1],\n",
       "       [ 3,  4,  6,  3,  4],\n",
       "       [ 8,  3,  2,  9, 10],\n",
       "       [ 6,  6,  3,  1,  6]])"
      ]
     },
     "execution_count": 22,
     "metadata": {},
     "output_type": "execute_result"
    }
   ],
   "source": [
    "int_rand = np.random.randint(1, 11, size=(4, 5))\n",
    "int_rand"
   ]
  },
  {
   "cell_type": "code",
   "execution_count": 23,
   "id": "be0783c5-fca7-432e-a001-dc70de9ec672",
   "metadata": {},
   "outputs": [
    {
     "name": "stdout",
     "output_type": "stream",
     "text": [
      "2\n",
      "(4, 5)\n",
      "int32\n"
     ]
    }
   ],
   "source": [
    "print(int_rand.ndim)\n",
    "print(int_rand.shape)\n",
    "print(int_rand.dtype)"
   ]
  },
  {
   "cell_type": "code",
   "execution_count": 24,
   "id": "6edfd6d8-0bf4-4ab8-98fc-71152ffbc218",
   "metadata": {},
   "outputs": [
    {
     "name": "stdout",
     "output_type": "stream",
     "text": [
      "['Green' 'White' 'Blue']\n",
      "['Green' 'White' 'Blue' 'Purple']\n"
     ]
    }
   ],
   "source": [
    "arr = np.array([\"Green\", \"White\", \"Blue\"])\n",
    "print(arr)\n",
    "\n",
    "add_arr = np.append(arr, \"Purple\")\n",
    "print(add_arr)"
   ]
  },
  {
   "cell_type": "code",
   "execution_count": 25,
   "id": "25ba5b1e-4b42-48f1-9abc-ab6731a53595",
   "metadata": {},
   "outputs": [
    {
     "data": {
      "text/plain": [
       "array(['Green', 'White', 'Blue', 'Brown', 'Orange'], dtype='<U6')"
      ]
     },
     "execution_count": 25,
     "metadata": {},
     "output_type": "execute_result"
    }
   ],
   "source": [
    "extended_arr = np.append(arr, [\"Brown\", \"Orange\"])\n",
    "extended_arr"
   ]
  },
  {
   "cell_type": "code",
   "execution_count": 26,
   "id": "3ec9c721-94ff-4fe5-b09e-2e3716a2d2fb",
   "metadata": {},
   "outputs": [
    {
     "name": "stdout",
     "output_type": "stream",
     "text": [
      "[[0. 0. 0.]\n",
      " [0. 0. 0.]\n",
      " [0. 0. 0.]]\n"
     ]
    }
   ],
   "source": [
    "zeros_arr = np.zeros((3, 3))\n",
    "print(zeros_arr)"
   ]
  },
  {
   "cell_type": "code",
   "execution_count": 27,
   "id": "5798e18a-8631-4c32-bf69-45bedc56b204",
   "metadata": {},
   "outputs": [
    {
     "name": "stdout",
     "output_type": "stream",
     "text": [
      "[[0. 0. 0.]\n",
      " [0. 0. 0.]\n",
      " [0. 0. 0.]]\n",
      "\n",
      "\n",
      "Extended Array: \n",
      "[[0. 0. 0.]\n",
      " [0. 0. 0.]\n",
      " [0. 0. 0.]\n",
      " [1. 2. 3.]]\n"
     ]
    }
   ],
   "source": [
    "zeros_arr = np.zeros((3, 3))\n",
    "print(zeros_arr)\n",
    "print(\"\\n\")\n",
    "print(\"Extended Array: \")\n",
    "extended = np.append(zeros_arr, [[1,2,3]], axis=0)\n",
    "print(extended)"
   ]
  },
  {
   "cell_type": "code",
   "execution_count": 28,
   "id": "6ad78d88-fe36-4f8e-bf68-89ad0d444425",
   "metadata": {},
   "outputs": [
    {
     "name": "stdout",
     "output_type": "stream",
     "text": [
      "[[0. 0. 0.]\n",
      " [0. 0. 0.]\n",
      " [0. 0. 0.]]\n",
      "\n",
      "\n",
      "Extended Array: \n",
      "[[0. 0. 0. 1.]\n",
      " [0. 0. 0. 2.]\n",
      " [0. 0. 0. 3.]]\n"
     ]
    }
   ],
   "source": [
    "zeros_arr = np.zeros((3, 3))\n",
    "print(zeros_arr)\n",
    "print(\"\\n\")\n",
    "print(\"Extended Array: \")\n",
    "extended = np.append(zeros_arr, [[1],[2],[3]], axis=1)\n",
    "print(extended)"
   ]
  },
  {
   "cell_type": "code",
   "execution_count": 29,
   "id": "9af191b0-1f8f-47ab-b1a0-fe5fc6392ff1",
   "metadata": {},
   "outputs": [
    {
     "name": "stdout",
     "output_type": "stream",
     "text": [
      "['Green' 'White' 'Blue']\n",
      "\n",
      "\n",
      "After Deletion: \n",
      "['Green' 'Blue']\n"
     ]
    }
   ],
   "source": [
    "arr = np.array([\"Green\", \"White\", \"Blue\"])\n",
    "print(arr)\n",
    "print(\"\\n\")\n",
    "print(\"After Deletion: \")\n",
    "updated_arr = np.delete(arr, 1)\n",
    "print(updated_arr)"
   ]
  },
  {
   "cell_type": "code",
   "execution_count": 30,
   "id": "4f6f1cb6-ed10-47a8-a175-4f564c238956",
   "metadata": {},
   "outputs": [
    {
     "name": "stdout",
     "output_type": "stream",
     "text": [
      "['Green' 'White' 'Blue']\n",
      "\n",
      "\n",
      "After Deletion: \n",
      "['White']\n"
     ]
    }
   ],
   "source": [
    "arr = np.array([\"Green\", \"White\", \"Blue\"])\n",
    "print(arr)\n",
    "print(\"\\n\")\n",
    "print(\"After Deletion: \")\n",
    "updated_arr = np.delete(arr, [0, 2])\n",
    "print(updated_arr)"
   ]
  },
  {
   "cell_type": "code",
   "execution_count": 31,
   "id": "bce81aac-d2ff-4372-8b3a-0cd15856dc60",
   "metadata": {},
   "outputs": [
    {
     "name": "stdout",
     "output_type": "stream",
     "text": [
      "[[0 1]\n",
      " [2 3]\n",
      " [4 5]\n",
      " [6 7]]\n",
      "\n",
      "\n",
      "After Deletion: \n",
      "[[0]\n",
      " [2]\n",
      " [4]\n",
      " [6]]\n"
     ]
    }
   ],
   "source": [
    "int_rand = np.arange(8).reshape(4,2)\n",
    "print(int_rand)\n",
    "print(\"\\n\")\n",
    "print(\"After Deletion: \")\n",
    "updated_arr = np.delete(int_rand, 1, axis=1)\n",
    "print(updated_arr)"
   ]
  },
  {
   "cell_type": "markdown",
   "id": "545f9511-94d9-49d6-a833-f2e04380d3e3",
   "metadata": {},
   "source": [
    "#### Array Manipulation"
   ]
  },
  {
   "cell_type": "markdown",
   "id": "d01097ca-0f30-4d84-a2cf-1dcdd8628861",
   "metadata": {},
   "source": [
    "##### Sorting"
   ]
  },
  {
   "cell_type": "code",
   "execution_count": 32,
   "id": "f44e4340-e0b8-44a0-b8a8-882ec8623a0f",
   "metadata": {},
   "outputs": [
    {
     "name": "stdout",
     "output_type": "stream",
     "text": [
      "Unsorted Array: \n",
      "[1 4 1 8 5]\n",
      "\n",
      " Sorted Array: \n",
      "[1 1 4 5 8]\n"
     ]
    }
   ],
   "source": [
    "import numpy as np\n",
    "\n",
    "print(\"Unsorted Array: \")\n",
    "arr = np.random.randint(1,10,5)\n",
    "print(arr)\n",
    "\n",
    "print(\"\\n Sorted Array: \")\n",
    "sorted_arr = np.sort(arr)\n",
    "print(sorted_arr)"
   ]
  },
  {
   "cell_type": "code",
   "execution_count": 33,
   "id": "a59426d4-e49d-462b-b692-1d7eb3fbaec9",
   "metadata": {},
   "outputs": [
    {
     "name": "stdout",
     "output_type": "stream",
     "text": [
      "Unsorted array\n",
      "['Red' 'Green' 'Pink' 'Blue' 'Yello']\n",
      " \n",
      " Sorted array\n",
      "['Blue' 'Green' 'Pink' 'Red' 'Yello']\n"
     ]
    }
   ],
   "source": [
    "print (\"Unsorted array\")\n",
    "arr1 = np.array([\"Red\", \"Green\", \"Pink\", \"Blue\", \"Yello\"])\n",
    "print (arr1)\n",
    "\n",
    "print (\" \\n Sorted array\")\n",
    "sorted_array = np.sort(arr1)\n",
    "print (sorted_array)"
   ]
  },
  {
   "cell_type": "code",
   "execution_count": 34,
   "id": "a57b35ca-ca98-45e6-8ee7-1ffd73439815",
   "metadata": {},
   "outputs": [
    {
     "name": "stdout",
     "output_type": "stream",
     "text": [
      "Unsorted array\n",
      "[[ 7  2 10]\n",
      " [ 1  3  4]\n",
      " [ 8  8 13]\n",
      " [ 5  1  7]]\n",
      "\n",
      " Sorted array\n",
      "[[ 2  7 10]\n",
      " [ 1  3  4]\n",
      " [ 8  8 13]\n",
      " [ 1  5  7]]\n"
     ]
    }
   ],
   "source": [
    "print (\"Unsorted array\")\n",
    "arr2 = np.random.randint( 1,15,size = ( 4,3))\n",
    "print (arr2)\n",
    "\n",
    "print (\"\\n Sorted array\")\n",
    "sorted_array = np.sort(arr2)\n",
    "print (sorted_array)"
   ]
  },
  {
   "cell_type": "markdown",
   "id": "ea730ffd-a75b-4928-898c-28faa0993377",
   "metadata": {},
   "source": [
    "##### Resphaping NumPy Arrays"
   ]
  },
  {
   "cell_type": "code",
   "execution_count": 35,
   "id": "19f53b2e-1b8b-4e23-b90f-f816b6e2c363",
   "metadata": {},
   "outputs": [
    {
     "name": "stdout",
     "output_type": "stream",
     "text": [
      "One-dimensional array\n",
      "[5 4 7 2 2 6]\n",
      " \n",
      " Two-dimensional array\n",
      "[[5 4 7]\n",
      " [2 2 6]]\n"
     ]
    }
   ],
   "source": [
    "# Lower to higher dimension\n",
    "print (\"One-dimensional array\")\n",
    "one_d_array = np.random.randint(1,10,6)\n",
    "print (one_d_array)\n",
    "\n",
    "print (\" \\n Two-dimensional array\")\n",
    "two_d_array = one_d_array.reshape(2,3)\n",
    "print (two_d_array)"
   ]
  },
  {
   "cell_type": "code",
   "execution_count": 36,
   "id": "95950ca9-33c7-4d26-b33f-b4d69f0c5b4c",
   "metadata": {},
   "outputs": [
    {
     "name": "stdout",
     "output_type": "stream",
     "text": [
      "Two-dimensional array\n",
      "[[19  9  2  9 16 13]\n",
      " [ 1 13  7 12 17  8]\n",
      " [ 7  4  4  4  7 11]]\n",
      " \n",
      " Three-dimensional array\n",
      "[[[19  9  2]\n",
      "  [ 9 16 13]\n",
      "  [ 1 13  7]]\n",
      "\n",
      " [[12 17  8]\n",
      "  [ 7  4  4]\n",
      "  [ 4  7 11]]]\n"
     ]
    }
   ],
   "source": [
    "# 2-dim to 3-dim\n",
    "print (\"Two-dimensional array\")\n",
    "two_d_array = np.random.randint(1,20, size=(3, 6))\n",
    "print (two_d_array)\n",
    "\n",
    "print (\" \\n Three-dimensional array\")\n",
    "three_d_array = np.reshape(two_d_array,(2, 3, 3))\n",
    "print (three_d_array)"
   ]
  },
  {
   "cell_type": "code",
   "execution_count": 37,
   "id": "fd2f9080-38b7-46d1-9ae0-aa6994a10744",
   "metadata": {},
   "outputs": [
    {
     "name": "stdout",
     "output_type": "stream",
     "text": [
      "[ 1  2  3  4  5  6  7  8  9 10]\n"
     ]
    }
   ],
   "source": [
    "num = np.arange(1, 11)\n",
    "print(num)"
   ]
  },
  {
   "cell_type": "code",
   "execution_count": 38,
   "id": "84f5d9f2-b9a9-4363-a0c0-0df2233b6765",
   "metadata": {},
   "outputs": [
    {
     "data": {
      "text/plain": [
       "2"
      ]
     },
     "execution_count": 38,
     "metadata": {},
     "output_type": "execute_result"
    }
   ],
   "source": [
    "num[1]"
   ]
  },
  {
   "cell_type": "code",
   "execution_count": 39,
   "id": "04012d26-b742-452c-a490-c769e55bba57",
   "metadata": {},
   "outputs": [
    {
     "data": {
      "text/plain": [
       "array([ 1,  2,  3,  4,  5,  6,  7,  8,  9, 10])"
      ]
     },
     "execution_count": 39,
     "metadata": {},
     "output_type": "execute_result"
    }
   ],
   "source": [
    "num[:]"
   ]
  },
  {
   "cell_type": "code",
   "execution_count": 40,
   "id": "54edbe6d-c75e-48d2-906f-9663569f8c41",
   "metadata": {},
   "outputs": [
    {
     "data": {
      "text/plain": [
       "array([2, 3, 4, 5])"
      ]
     },
     "execution_count": 40,
     "metadata": {},
     "output_type": "execute_result"
    }
   ],
   "source": [
    "num[1:5]"
   ]
  },
  {
   "cell_type": "code",
   "execution_count": 41,
   "id": "7328940d-b7e1-49d9-a50a-00f331565179",
   "metadata": {},
   "outputs": [
    {
     "data": {
      "text/plain": [
       "array([1, 2, 3, 4, 5])"
      ]
     },
     "execution_count": 41,
     "metadata": {},
     "output_type": "execute_result"
    }
   ],
   "source": [
    "num[:5]"
   ]
  },
  {
   "cell_type": "code",
   "execution_count": 42,
   "id": "1aed2451-4081-43f6-8561-e55ac42286f5",
   "metadata": {},
   "outputs": [
    {
     "data": {
      "text/plain": [
       "array([ 6,  7,  8,  9, 10])"
      ]
     },
     "execution_count": 42,
     "metadata": {},
     "output_type": "execute_result"
    }
   ],
   "source": [
    "num[5:]"
   ]
  },
  {
   "cell_type": "code",
   "execution_count": 43,
   "id": "112a1264-807e-4382-8213-0efc5f15a98f",
   "metadata": {},
   "outputs": [
    {
     "data": {
      "text/plain": [
       "array([1, 2, 3, 4, 5, 6, 7, 8, 9])"
      ]
     },
     "execution_count": 43,
     "metadata": {},
     "output_type": "execute_result"
    }
   ],
   "source": [
    "num[:-1]"
   ]
  },
  {
   "cell_type": "code",
   "execution_count": 44,
   "id": "1eca24f9-0ffe-4916-aa63-ead57cc1c925",
   "metadata": {},
   "outputs": [
    {
     "data": {
      "text/plain": [
       "array([3, 4, 5, 6])"
      ]
     },
     "execution_count": 44,
     "metadata": {},
     "output_type": "execute_result"
    }
   ],
   "source": [
    "num[2:6]"
   ]
  },
  {
   "cell_type": "code",
   "execution_count": 45,
   "id": "fa3fadaf-697a-429b-a50f-efbd7ff741e3",
   "metadata": {},
   "outputs": [
    {
     "data": {
      "text/plain": [
       "array([10,  7,  4,  1])"
      ]
     },
     "execution_count": 45,
     "metadata": {},
     "output_type": "execute_result"
    }
   ],
   "source": [
    "num[::-3]"
   ]
  },
  {
   "cell_type": "code",
   "execution_count": 46,
   "id": "4d009fdc-98ba-4c4d-871b-588e1e073c37",
   "metadata": {},
   "outputs": [
    {
     "name": "stdout",
     "output_type": "stream",
     "text": [
      "[[10 20 30]\n",
      " [15 25 35]\n",
      " [12 24 36]]\n"
     ]
    }
   ],
   "source": [
    "row1 = [10, 20, 30]\n",
    "row2 = [15, 25, 35]\n",
    "row3 = [12, 24, 36]\n",
    "\n",
    "num_2d = np.array([row1, row2, row3])\n",
    "print(num_2d)"
   ]
  },
  {
   "cell_type": "code",
   "execution_count": 47,
   "id": "69371023-6649-4da5-938a-d1cbba0b0fb2",
   "metadata": {},
   "outputs": [
    {
     "name": "stdout",
     "output_type": "stream",
     "text": [
      "[[10 20]\n",
      " [15 25]\n",
      " [12 24]]\n"
     ]
    }
   ],
   "source": [
    "print (num_2d[:,:2])"
   ]
  },
  {
   "cell_type": "markdown",
   "id": "9392db0f-7e5f-427c-9df9-c5ffb4802af1",
   "metadata": {},
   "source": [
    "#### Broadcasting NumPy Arrays"
   ]
  },
  {
   "cell_type": "code",
   "execution_count": 48,
   "id": "1390376b-97f5-4af2-a4e4-468601eabb8c",
   "metadata": {},
   "outputs": [
    {
     "name": "stdout",
     "output_type": "stream",
     "text": [
      "[20 27 37]\n"
     ]
    }
   ],
   "source": [
    "arr1 = np.array([ 9 , 16 , 26 ]) # 1-dim\n",
    "arr2 = np.array([ 11 ]) # scaler\n",
    "result = arr1 + arr2\n",
    "print (result)"
   ]
  },
  {
   "cell_type": "code",
   "execution_count": 49,
   "id": "7c030fa8-1bf9-4836-a4e3-6d0bb9386bd9",
   "metadata": {},
   "outputs": [
    {
     "name": "stdout",
     "output_type": "stream",
     "text": [
      "[[3 8 4 8]\n",
      " [7 3 1 4]]\n",
      "\n",
      " After Broadcasting: \n",
      "[[13 18 14 18]\n",
      " [17 13 11 14]]\n"
     ]
    }
   ],
   "source": [
    "arr1 = np.random.randint(1,10, size=(2,4))\n",
    "print(arr1)\n",
    "\n",
    "arr2 = np.array([10])\n",
    "print(\"\\n After Broadcasting: \")\n",
    "\n",
    "result = arr1 + arr2\n",
    "print(result)"
   ]
  },
  {
   "cell_type": "markdown",
   "id": "559cb314-abfe-4630-81ec-853285365ad2",
   "metadata": {},
   "source": [
    "##### Copying numpy arrays"
   ]
  },
  {
   "cell_type": "code",
   "execution_count": 50,
   "id": "0cd82c21-e339-4f57-a076-e29d176beb66",
   "metadata": {},
   "outputs": [
    {
     "name": "stdout",
     "output_type": "stream",
     "text": [
      "[1 2 3 4 5]\n",
      "[1 9 3 4 5]\n"
     ]
    }
   ],
   "source": [
    "arr1 = np.array([ 1, 2 , 3 , 4, 5])\n",
    "arr2 = arr1.copy()\n",
    "\n",
    "arr2[1] = 9\n",
    "print(arr1)\n",
    "print(arr2)"
   ]
  },
  {
   "cell_type": "code",
   "execution_count": 51,
   "id": "5d46c457-e82d-4e96-b350-4848473bdcba",
   "metadata": {},
   "outputs": [
    {
     "name": "stdout",
     "output_type": "stream",
     "text": [
      "[1 9 3 4 5]\n",
      "[1 9 3 4 5]\n"
     ]
    }
   ],
   "source": [
    "arr1 = np.array([ 1, 2 , 3 , 4, 5])\n",
    "arr2 = arr1.view()\n",
    "\n",
    "arr2[1] = 9\n",
    "print(arr1)\n",
    "print(arr2)"
   ]
  },
  {
   "cell_type": "markdown",
   "id": "9889d2f7-9e5b-4125-b294-eb9c9791d890",
   "metadata": {},
   "source": [
    "##### File I/O "
   ]
  },
  {
   "cell_type": "code",
   "execution_count": 52,
   "id": "34c1e2f6-ac2b-4cf9-905e-79fba302014c",
   "metadata": {},
   "outputs": [],
   "source": [
    "# Save data\n",
    "arr = np.arange(10)\n",
    "np.save(\"some defined array\", arr)"
   ]
  },
  {
   "cell_type": "code",
   "execution_count": 53,
   "id": "70ff3dfb-f30b-4890-a92c-0c41ab2f2a70",
   "metadata": {},
   "outputs": [
    {
     "data": {
      "text/plain": [
       "array([0, 1, 2, 3, 4, 5, 6, 7, 8, 9])"
      ]
     },
     "execution_count": 53,
     "metadata": {},
     "output_type": "execute_result"
    }
   ],
   "source": [
    "# Load data\n",
    "np.load(\"some defined array.npy\")"
   ]
  },
  {
   "cell_type": "code",
   "execution_count": 54,
   "id": "1ce64368-e1be-474e-93da-180fe5d1afdf",
   "metadata": {},
   "outputs": [],
   "source": [
    "np.savez(\"array_archive.npz\", a=arr, b=arr)"
   ]
  },
  {
   "cell_type": "markdown",
   "id": "8f027a41-3834-45c7-99a2-48c98fb38d33",
   "metadata": {},
   "source": [
    "##### NumPy Tips and Tricks"
   ]
  },
  {
   "cell_type": "code",
   "execution_count": 55,
   "id": "845df45d-a9f3-484a-923a-61278b253647",
   "metadata": {},
   "outputs": [
    {
     "name": "stdout",
     "output_type": "stream",
     "text": [
      "[ 3  6  9 12 15 18]\n",
      "Mean :\n",
      "10.5\n"
     ]
    }
   ],
   "source": [
    "# mean\n",
    "arr = np.array([3,6,9,12,15,18])\n",
    "print(arr)\n",
    "\n",
    "print(\"Mean :\")\n",
    "print(np.mean(arr))"
   ]
  },
  {
   "cell_type": "code",
   "execution_count": 57,
   "id": "94365b3b-5c06-469f-96e0-17f2ed63b6d9",
   "metadata": {},
   "outputs": [
    {
     "name": "stdout",
     "output_type": "stream",
     "text": [
      "[[ 4 10  3]\n",
      " [ 9 10  1]]\n",
      "Mean of column: \n",
      "[5.66666667 6.66666667]\n",
      "Mean of row: \n",
      "[ 6.5 10.   2. ]\n"
     ]
    }
   ],
   "source": [
    "arr = np.random.randint( 1 , 12 , size = ( 2 , 3 ))\n",
    "print(arr)\n",
    "print(\"Mean of column: \")\n",
    "print(np.mean(arr, axis = 1 ))\n",
    "\n",
    "print(\"Mean of row: \")\n",
    "print(np.mean(arr, axis = 0 ))"
   ]
  },
  {
   "cell_type": "code",
   "execution_count": 58,
   "id": "ec982124-c04f-42e2-9be6-65ac72c87ba7",
   "metadata": {},
   "outputs": [
    {
     "name": "stdout",
     "output_type": "stream",
     "text": [
      "[ 2  4  8 10 12 14 16]\n",
      "Median: \n",
      "10.0\n"
     ]
    }
   ],
   "source": [
    "arr = np.array([2, 4, 8, 10, 12, 14, 16])\n",
    "print(arr)\n",
    "print(\"Median: \")\n",
    "print(np.median(arr))"
   ]
  },
  {
   "cell_type": "code",
   "execution_count": 59,
   "id": "e9ae649f-448d-41c0-9c30-769f855f280c",
   "metadata": {},
   "outputs": [
    {
     "name": "stdout",
     "output_type": "stream",
     "text": [
      "[[ 9 15 13  6]\n",
      " [ 4 17 19 13]\n",
      " [ 2 13 18 19]]\n",
      "Median of column:\n",
      "[11.  15.  15.5]\n",
      "Median of row:\n",
      "[ 4. 15. 18. 13.]\n"
     ]
    }
   ],
   "source": [
    "arr = np.random.randint( 1 , 20 , size = ( 3 , 4 ))\n",
    "print (arr)\n",
    "print (\"Median of column:\")\n",
    "print (np.median(arr, axis = 1 ))\n",
    "print (\"Median of row:\")\n",
    "print (np.median(arr, axis = 0 ))"
   ]
  },
  {
   "cell_type": "code",
   "execution_count": 60,
   "id": "8a10d1b7-4a3f-4daa-9f61-f4e1127ee0cc",
   "metadata": {},
   "outputs": [
    {
     "name": "stdout",
     "output_type": "stream",
     "text": [
      "[ 2  4  8 10 12]\n",
      "min value:\n",
      "2\n"
     ]
    }
   ],
   "source": [
    "arr = np.array([ 2 , 4 , 8 , 10 , 12 ])\n",
    "print (arr)\n",
    "print (\"min value:\")\n",
    "print(np.min(arr))"
   ]
  },
  {
   "cell_type": "code",
   "execution_count": 64,
   "id": "5383a373-96f9-4c17-a0ea-ffeeb9fbe5a7",
   "metadata": {},
   "outputs": [
    {
     "name": "stdout",
     "output_type": "stream",
     "text": [
      "[[15  5 14]\n",
      " [12 18 19]\n",
      " [ 5  8  1]]\n",
      "Min value of column:\n",
      "[ 5 12  1]\n",
      "Min value of row:\n",
      "[5 5 1]\n"
     ]
    }
   ],
   "source": [
    "arr = np.random.randint( 1 , 20 , size = ( 3 , 3 ))\n",
    "print (arr)\n",
    "print (\"Min value of row:\")\n",
    "print (np.min(arr, axis = 1 ))\n",
    "print (\"Min value of column:\")\n",
    "print (np.min(arr, axis = 0 ))"
   ]
  },
  {
   "cell_type": "code",
   "execution_count": 65,
   "id": "0650062a-7dbf-4ecc-8223-77b3a8d79304",
   "metadata": {},
   "outputs": [
    {
     "name": "stdout",
     "output_type": "stream",
     "text": [
      "[ 2  4  8 10 12]\n",
      "max value:\n",
      "12\n"
     ]
    }
   ],
   "source": [
    "arr = np.array([ 2 , 4 , 8 , 10 , 12 ])\n",
    "print (arr)\n",
    "print (\"max value:\")\n",
    "print (np.max(arr))"
   ]
  },
  {
   "cell_type": "code",
   "execution_count": 66,
   "id": "b4eaa1db-2af1-4bc0-9c1c-b0fb19290a8e",
   "metadata": {},
   "outputs": [
    {
     "name": "stdout",
     "output_type": "stream",
     "text": [
      "[[17  6  9]\n",
      " [19 12  5]\n",
      " [10 14  6]]\n",
      "Max value of row:\n",
      "[17 19 14]\n",
      "Max value of column:\n",
      "[19 14  9]\n"
     ]
    }
   ],
   "source": [
    "arr = np.random.randint( 1 , 20 , size = ( 3 , 3 ))\n",
    "print (arr)\n",
    "print (\"Max value of row:\")\n",
    "print (np.max(arr, axis = 1 ))\n",
    "print (\"Max value of column:\")\n",
    "print (np.max(arr, axis = 0 ))"
   ]
  },
  {
   "cell_type": "code",
   "execution_count": 69,
   "id": "663deb2a-d382-4afe-aefb-02b2f34cd723",
   "metadata": {},
   "outputs": [
    {
     "name": "stdout",
     "output_type": "stream",
     "text": [
      "[ 2  4  8 10 12]\n",
      "Standard value:\n",
      "3.7094473981982814\n"
     ]
    }
   ],
   "source": [
    "arr = np.array([ 2 , 4 , 8 , 10 , 12 ])\n",
    "print (arr)\n",
    "print (\"Standard value:\")\n",
    "print (np.std(arr))"
   ]
  },
  {
   "cell_type": "code",
   "execution_count": 70,
   "id": "4be92b0a-0dff-4dc2-a240-99e7a3af8ae0",
   "metadata": {},
   "outputs": [
    {
     "name": "stdout",
     "output_type": "stream",
     "text": [
      "[[ 2  4 14]\n",
      " [ 3 17 12]\n",
      " [ 5 19  4]]\n",
      "Standard dev. for row:\n",
      "[5.24933858 5.79271573 6.84754619]\n",
      "Standard dev. for column:\n",
      "[1.24721913 6.64997911 4.3204938 ]\n"
     ]
    }
   ],
   "source": [
    "arr = np.random.randint( 1 , 20 , size = ( 3 , 3 ))\n",
    "print (arr)\n",
    "print (\"Standard dev. for row:\")\n",
    "print (np.std(arr, axis = 1 ))\n",
    "print (\"Standard dev. for column:\")\n",
    "print (np.std(arr, axis = 0 ))"
   ]
  },
  {
   "cell_type": "code",
   "execution_count": 76,
   "id": "b0d4b5ef-cf2b-43b7-b105-989ae875a1e8",
   "metadata": {},
   "outputs": [
    {
     "name": "stdout",
     "output_type": "stream",
     "text": [
      "[4.  6.  2.  0.  1.3]\n",
      "[ 0.4 -1.   0.8  7.   9. ]\n",
      "\n",
      " Correlation value: \n",
      "[8.9]\n"
     ]
    }
   ],
   "source": [
    "arr1 = np.array([4, 6, 2, 0, 1.3])\n",
    "arr2 = np.array([0.4, -1, 0.8, 7, 9])\n",
    "\n",
    "print(arr1)\n",
    "print(arr2)\n",
    "print(\"\\n Correlation value: \")\n",
    "print(np.correlate(arr1, arr2))"
   ]
  },
  {
   "cell_type": "code",
   "execution_count": 77,
   "id": "26d19314-f4f7-4863-9515-071a242388b5",
   "metadata": {},
   "outputs": [
    {
     "name": "stdout",
     "output_type": "stream",
     "text": [
      "[1 2 3 4 6 7]\n"
     ]
    }
   ],
   "source": [
    "arr =np.array([1,3,4,1,4,6,3,7,2,1,6,7,4])\n",
    "unique_items = np.unique(arr)\n",
    "print(unique_items)"
   ]
  },
  {
   "cell_type": "markdown",
   "id": "7ab2797d-76bc-4027-9c52-eac62678cfc7",
   "metadata": {},
   "source": [
    "##### Reversing a array"
   ]
  },
  {
   "cell_type": "code",
   "execution_count": 86,
   "id": "37300bde-b16e-432f-8b8c-a2c8c5e1d14d",
   "metadata": {},
   "outputs": [
    {
     "name": "stdout",
     "output_type": "stream",
     "text": [
      "Random Numbers: \n",
      "[3 8 9 9 1 7]\n",
      "\n",
      " Reverse Random Numbers: \n",
      "[7 1 9 9 8 3]\n"
     ]
    }
   ],
   "source": [
    "print(\"Random Numbers: \")\n",
    "arr = np.random.randint(1,10,6)\n",
    "print(arr)\n",
    "print(\"\\n Reverse Random Numbers: \")\n",
    "reversed_arr = np.flipud(arr)\n",
    "print(reversed_arr)"
   ]
  },
  {
   "cell_type": "code",
   "execution_count": 87,
   "id": "fd58cd84-2eda-440e-9fc5-f820f18d8559",
   "metadata": {},
   "outputs": [
    {
     "name": "stdout",
     "output_type": "stream",
     "text": [
      "Random Numbers: \n",
      "[[11  7  4  3]\n",
      " [ 2  5  4  9]\n",
      " [ 1 10 11  9]]\n",
      "\n",
      " Reverse Random Numbers: \n",
      "[[ 3  4  7 11]\n",
      " [ 9  4  5  2]\n",
      " [ 9 11 10  1]]\n"
     ]
    }
   ],
   "source": [
    "print(\"Random Numbers: \")\n",
    "arr = np.random.randint(1,12, size=(3,4))\n",
    "print(arr)\n",
    "print(\"\\n Reverse Random Numbers: \")\n",
    "reversed_arr = np.fliplr(arr) # reverse from backward of a row\n",
    "print(reversed_arr)"
   ]
  },
  {
   "cell_type": "markdown",
   "id": "8b3fe8f3-c420-40cb-9b30-ce290afd098c",
   "metadata": {},
   "source": [
    "##### Importing and Exporting CSV files"
   ]
  },
  {
   "cell_type": "code",
   "execution_count": 88,
   "id": "aca509c8-5b29-42b5-af48-6f324929c486",
   "metadata": {},
   "outputs": [
    {
     "name": "stdout",
     "output_type": "stream",
     "text": [
      "[[ 4  7  9]\n",
      " [12  3  1]\n",
      " [ 2  5 11]\n",
      " [ 2 12  6]]\n"
     ]
    }
   ],
   "source": [
    "# saving a numpy files as csv\n",
    "arr = np.random.randint(1, 15, size=(4,3))\n",
    "print(arr)\n",
    "\n",
    "arr.tofile('array.csv', sep=',')"
   ]
  },
  {
   "cell_type": "code",
   "execution_count": 90,
   "id": "63eb5bda-03d0-4970-b2dd-9621e9bfc27e",
   "metadata": {},
   "outputs": [
    {
     "name": "stdout",
     "output_type": "stream",
     "text": [
      "[[ 5  5  4 14]\n",
      " [ 2  2 10 16]\n",
      " [ 3 11  9  7]\n",
      " [15  8  3 17]]\n"
     ]
    }
   ],
   "source": [
    "arr = np.random.randint(1,18, size = (4,4))\n",
    "print(arr)\n",
    "np.savetxt('array2.csv', arr, delimiter = ',')"
   ]
  },
  {
   "cell_type": "code",
   "execution_count": 91,
   "id": "426688a8-582f-411c-a878-842dcc2e8dfa",
   "metadata": {},
   "outputs": [
    {
     "name": "stdout",
     "output_type": "stream",
     "text": [
      "[[ 5.  5.  4. 14.]\n",
      " [ 2.  2. 10. 16.]\n",
      " [ 3. 11.  9.  7.]\n",
      " [15.  8.  3. 17.]]\n"
     ]
    }
   ],
   "source": [
    "# load csv files into array\n",
    "load_arr = np.genfromtxt('array2.csv', delimiter=',')\n",
    "print(load_arr)"
   ]
  },
  {
   "cell_type": "code",
   "execution_count": 92,
   "id": "e1380d68-5128-49b4-99c3-efadc89de6b0",
   "metadata": {},
   "outputs": [
    {
     "name": "stdout",
     "output_type": "stream",
     "text": [
      "Collecting matplotlib\n",
      "  Using cached matplotlib-3.6.3-cp310-cp310-win_amd64.whl (7.2 MB)\n",
      "Collecting contourpy>=1.0.1\n",
      "  Using cached contourpy-1.0.7-cp310-cp310-win_amd64.whl (162 kB)\n",
      "Collecting fonttools>=4.22.0\n",
      "  Using cached fonttools-4.38.0-py3-none-any.whl (965 kB)\n",
      "Collecting pillow>=6.2.0\n",
      "  Using cached Pillow-9.4.0-cp310-cp310-win_amd64.whl (2.5 MB)\n",
      "Requirement already satisfied: packaging>=20.0 in d:\\all programs\\anaconda\\envs\\data\\lib\\site-packages (from matplotlib) (23.0)\n",
      "Collecting kiwisolver>=1.0.1\n",
      "  Using cached kiwisolver-1.4.4-cp310-cp310-win_amd64.whl (55 kB)\n",
      "Collecting pyparsing>=2.2.1\n",
      "  Using cached pyparsing-3.0.9-py3-none-any.whl (98 kB)\n",
      "Requirement already satisfied: python-dateutil>=2.7 in d:\\all programs\\anaconda\\envs\\data\\lib\\site-packages (from matplotlib) (2.8.2)\n",
      "Collecting cycler>=0.10\n",
      "  Using cached cycler-0.11.0-py3-none-any.whl (6.4 kB)\n",
      "Requirement already satisfied: numpy>=1.19 in d:\\all programs\\anaconda\\envs\\data\\lib\\site-packages (from matplotlib) (1.24.1)\n",
      "Requirement already satisfied: six>=1.5 in d:\\all programs\\anaconda\\envs\\data\\lib\\site-packages (from python-dateutil>=2.7->matplotlib) (1.16.0)\n",
      "Installing collected packages: pyparsing, pillow, kiwisolver, fonttools, cycler, contourpy, matplotlib\n",
      "Successfully installed contourpy-1.0.7 cycler-0.11.0 fonttools-4.38.0 kiwisolver-1.4.4 matplotlib-3.6.3 pillow-9.4.0 pyparsing-3.0.9\n",
      "Note: you may need to restart the kernel to use updated packages.\n"
     ]
    }
   ],
   "source": [
    "pip install matplotlib"
   ]
  },
  {
   "cell_type": "code",
   "execution_count": 93,
   "id": "f8f62de5-2c6a-45e3-a614-1ca5c1f9fd57",
   "metadata": {},
   "outputs": [],
   "source": [
    "import matplotlib.pyplot as plt\n",
    "%matplotlib inline"
   ]
  },
  {
   "cell_type": "code",
   "execution_count": 94,
   "id": "1ea1c6a9-07e8-479f-9e32-a079e2dcf96b",
   "metadata": {},
   "outputs": [],
   "source": [
    "import math"
   ]
  },
  {
   "cell_type": "code",
   "execution_count": 95,
   "id": "94d01a7e-8a66-48e1-9107-ef85d9e5fe39",
   "metadata": {},
   "outputs": [
    {
     "name": "stdout",
     "output_type": "stream",
     "text": [
      "[ 0.          1.05263158  2.10526316  3.15789474  4.21052632  5.26315789\n",
      "  6.31578947  7.36842105  8.42105263  9.47368421 10.52631579 11.57894737\n",
      " 12.63157895 13.68421053 14.73684211 15.78947368 16.84210526 17.89473684\n",
      " 18.94736842 20.        ]\n"
     ]
    },
    {
     "data": {
      "text/plain": [
       "[<matplotlib.lines.Line2D at 0x1b5cfc3f3a0>]"
      ]
     },
     "execution_count": 95,
     "metadata": {},
     "output_type": "execute_result"
    },
    {
     "data": {
      "image/png": "[encoded data removed]",
      "text/plain": [
       "<Figure size 640x480 with 1 Axes>"
      ]
     },
     "metadata": {},
     "output_type": "display_data"
    }
   ],
   "source": [
    "x = np.linspace(0,20,20)\n",
    "print(x)\n",
    "\n",
    "y = [math.sqrt(row) for row in x]\n",
    "plt.plot(x, y)"
   ]
  },
  {
   "cell_type": "code",
   "execution_count": 96,
   "id": "40c67c81-cdc8-4382-9c0f-e9be5165ac37",
   "metadata": {},
   "outputs": [
    {
     "data": {
      "text/plain": [
       "<matplotlib.legend.Legend at 0x1b5bd6a13f0>"
      ]
     },
     "execution_count": 96,
     "metadata": {},
     "output_type": "execute_result"
    },
    {
     "data": {
      "image/png": "[encoded data removed]",
      "text/plain": [
       "<Figure size 640x480 with 1 Axes>"
      ]
     },
     "metadata": {},
     "output_type": "display_data"
    }
   ],
   "source": [
    "x = np.linspace(0,10,10)\n",
    "y = [math.sqrt(row) for row in x]\n",
    "\n",
    "y2 = x ** 3\n",
    "\n",
    "plt.xlabel('X values')\n",
    "plt.xlabel('Y values')\n",
    "\n",
    "plt.title('Square Roots')\n",
    "\n",
    "plt.plot(x, y, 'r', label='square root')\n",
    "plt.plot(x, y2, 'b', label=\"cube\")\n",
    "\n",
    "plt.legend()"
   ]
  },
  {
   "cell_type": "code",
   "execution_count": 97,
   "id": "d81a2a82-7630-42de-9298-e6a7e283bb3f",
   "metadata": {},
   "outputs": [
    {
     "name": "stdout",
     "output_type": "stream",
     "text": [
      "[[11 14  4 10]\n",
      " [ 9  6 18 18]\n",
      " [ 8  8  1  5]\n",
      " [ 2 12  7  5]]\n"
     ]
    },
    {
     "data": {
      "image/png": "[encoded data removed]",
      "text/plain": [
       "<Figure size 640x480 with 1 Axes>"
      ]
     },
     "metadata": {},
     "output_type": "display_data"
    }
   ],
   "source": [
    "arr = np.random.randint(1,20, size=(4,4))\n",
    "print(arr)\n",
    "\n",
    "plt.imshow(arr)\n",
    "plt.show()"
   ]
  },
  {
   "cell_type": "code",
   "execution_count": null,
   "id": "bdb30c06-a39b-46f9-9105-acbbbce652c4",
   "metadata": {
    "tags": []
   },
   "outputs": [],
   "source": []
  },
  {
   "cell_type": "markdown",
   "id": "4d9208c2-0262-491f-b0b7-d795aa685b06",
   "metadata": {},
   "source": [
    "##### Arithmetic and Linear Algebra"
   ]
  },
  {
   "cell_type": "code",
   "execution_count": 99,
   "id": "3c9f313e-08fb-40df-9f7f-372dbf5e7ffa",
   "metadata": {},
   "outputs": [
    {
     "data": {
      "text/plain": [
       "array([2., 3., 4., 5., 6., 7.])"
      ]
     },
     "execution_count": 99,
     "metadata": {},
     "output_type": "execute_result"
    }
   ],
   "source": [
    "# finding square roots\n",
    "nums = [4,9,16,25,36,49]\n",
    "sqr_num = np.sqrt(nums)\n",
    "sqr_num"
   ]
  },
  {
   "cell_type": "code",
   "execution_count": 100,
   "id": "beb4785f-901a-414e-90e3-ced47182cf89",
   "metadata": {},
   "outputs": [
    {
     "name": "stdout",
     "output_type": "stream",
     "text": [
      "[2.30258509 2.99573227 3.40119738 3.68887945 3.91202301]\n"
     ]
    }
   ],
   "source": [
    "# finding logs\n",
    "nums = [ 10 , 20 , 30 , 40 , 50 ]\n",
    "log_nums = np.log(nums)\n",
    "print(log_nums)"
   ]
  },
  {
   "cell_type": "code",
   "execution_count": 101,
   "id": "508b6aa5-f83a-41d6-bb86-2430b3984a8c",
   "metadata": {},
   "outputs": [
    {
     "name": "stdout",
     "output_type": "stream",
     "text": [
      "[2.20264658e+04 4.85165195e+08 1.06864746e+13 2.35385267e+17\n",
      " 5.18470553e+21]\n"
     ]
    }
   ],
   "source": [
    "# finding exponents\n",
    "nums = [ 10 , 20 , 30 , 40 , 50 ]\n",
    "exp_nums = np.exp(nums)\n",
    "print(exp_nums)"
   ]
  },
  {
   "cell_type": "code",
   "execution_count": 102,
   "id": "05f08bac-865f-48e9-9e33-dda5fdd5ebd6",
   "metadata": {},
   "outputs": [
    {
     "name": "stdout",
     "output_type": "stream",
     "text": [
      "[-0.54402111  0.91294525 -0.98803162  0.74511316 -0.26237485]\n",
      "[-0.83907153  0.40808206  0.15425145 -0.66693806  0.96496603]\n"
     ]
    }
   ],
   "source": [
    "# finding sine and cosine\n",
    "nums = [ 10 , 20 , 30 , 40 , 50 ]\n",
    "sine_nums = np.sin(nums)\n",
    "print (sine_nums)\n",
    "\n",
    "nums = [ 10 , 20 , 30 , 40 , 50 ]\n",
    "cos_nums = np.cos(nums)\n",
    "print (cos_nums)"
   ]
  },
  {
   "cell_type": "code",
   "execution_count": null,
   "id": "2b1aea0b-5127-4fb9-a98a-de4aaa8f2a60",
   "metadata": {
    "tags": []
   },
   "outputs": [],
   "source": []
  },
  {
   "cell_type": "code",
   "execution_count": 103,
   "id": "1e45a966-941a-436a-94d1-ac45e8f77b0a",
   "metadata": {},
   "outputs": [],
   "source": [
    "##### NumPy for Linear Algebra"
   ]
  },
  {
   "cell_type": "code",
   "execution_count": 104,
   "id": "35d1b0eb-5ae2-4d24-9c46-3aedb98518d2",
   "metadata": {},
   "outputs": [
    {
     "name": "stdout",
     "output_type": "stream",
     "text": [
      "[[1.73362113 0.29112395]\n",
      " [0.15538738 0.27071519]]\n"
     ]
    }
   ],
   "source": [
    "# finding the matrix dot product\n",
    "num1 = np.random.randn(2,3)\n",
    "num2 = np.random.randn(3,2)\n",
    "\n",
    "dot_product = np.dot(num1, num2)\n",
    "print(dot_product)"
   ]
  },
  {
   "cell_type": "code",
   "execution_count": 105,
   "id": "9cf1cde2-2fe7-49dd-a627-73a44e44c414",
   "metadata": {},
   "outputs": [
    {
     "name": "stdout",
     "output_type": "stream",
     "text": [
      "[[ 100  144  169]\n",
      " [2025 1024  256]\n",
      " [2025 1024  256]]\n"
     ]
    }
   ],
   "source": [
    "# element-wise matrix multiplication\n",
    "row1 = [ 10 , 12 , 13 ]\n",
    "row2 = [ 45 , 32 , 16 ]\n",
    "row3 = [ 45 , 32 , 16 ]\n",
    "\n",
    "nums_2d = np.array([row1, row2, row3])\n",
    "multiply = np.multiply(nums_2d, nums_2d)\n",
    "print (multiply)"
   ]
  },
  {
   "cell_type": "code",
   "execution_count": 106,
   "id": "623379e3-ed14-4d55-9997-6452f8c96b4f",
   "metadata": {},
   "outputs": [
    {
     "name": "stdout",
     "output_type": "stream",
     "text": [
      "[[ 0.70588235 -1.          0.58823529]\n",
      " [ 1.29411765 -1.          0.41176471]\n",
      " [-0.76470588  1.         -0.47058824]]\n"
     ]
    }
   ],
   "source": [
    "# finding matrix inverse\n",
    "row1 = [ 1 , 2 , 3 ]\n",
    "row2 = [ 5 , 2 , 8 ]\n",
    "row3 = [ 9 , 1 , 10 ]\n",
    "\n",
    "nums_2d = np.array([row1, row2, row3])\n",
    "inverse = np.linalg.inv(nums_2d)\n",
    "print (inverse)"
   ]
  },
  {
   "cell_type": "code",
   "execution_count": 107,
   "id": "19a758a5-6e0c-4943-981d-816fe4fcd86d",
   "metadata": {},
   "outputs": [
    {
     "name": "stdout",
     "output_type": "stream",
     "text": [
      "17.0\n"
     ]
    }
   ],
   "source": [
    "# finding the matrix determinant\n",
    "row1 = [ 1 , 2 , 3 ]\n",
    "row2 = [ 5 , 2 , 8 ]\n",
    "row3 = [ 9 , 1 , 10 ]\n",
    "nums_2d = np.array([row1, row2, row3])\n",
    "determinant = np.linalg.det(nums_2d)\n",
    "print (determinant)"
   ]
  },
  {
   "cell_type": "code",
   "execution_count": null,
   "id": "803c68a1-7388-4aea-bc71-6d7a5e02c526",
   "metadata": {},
   "outputs": [],
   "source": []
  }
 ],
 "metadata": {
  "kernelspec": {
   "display_name": "Python 3 (ipykernel)",
   "language": "python",
   "name": "python3"
  },
  "language_info": {
   "codemirror_mode": {
    "name": "ipython",
    "version": 3
   },
   "file_extension": ".py",
   "mimetype": "text/x-python",
   "name": "python",
   "nbconvert_exporter": "python",
   "pygments_lexer": "ipython3",
   "version": "3.10.8"
  },
  "toc-autonumbering": false,
  "toc-showtags": false
 },
 "nbformat": 4,
 "nbformat_minor": 5
}
