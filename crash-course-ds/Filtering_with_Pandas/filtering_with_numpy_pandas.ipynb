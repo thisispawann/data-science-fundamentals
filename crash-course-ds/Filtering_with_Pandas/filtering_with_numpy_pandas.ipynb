{
 "cells": [
  {
   "cell_type": "markdown",
   "id": "978e28f1-83d5-4603-af4f-3d2912488d67",
   "metadata": {},
   "source": [
    "**1. Filtering with Pandas**\n",
    "\n",
    "**1.1. Filtering with NumPy arrays**"
   ]
  },
  {
   "cell_type": "code",
   "execution_count": 1,
   "id": "67d04bcf-a1fe-4cde-8e02-7806dea368fc",
   "metadata": {
    "tags": []
   },
   "outputs": [],
   "source": [
    "import numpy as np\n",
    "import pandas as pd"
   ]
  },
  {
   "cell_type": "code",
   "execution_count": 2,
   "id": "a37b3272-d84b-4745-bf1f-5ba2446449fa",
   "metadata": {},
   "outputs": [
    {
     "data": {
      "text/plain": [
       "array(['a', 'b', 'c', 'd'], dtype='<U1')"
      ]
     },
     "execution_count": 2,
     "metadata": {},
     "output_type": "execute_result"
    }
   ],
   "source": [
    "indexed_array = np.array(['a', 'b', 'c', 'd'])\n",
    "indexed_array"
   ]
  },
  {
   "cell_type": "code",
   "execution_count": 5,
   "id": "a8800699-435f-4d37-aa2a-61a7178b4bad",
   "metadata": {},
   "outputs": [
    {
     "name": "stdout",
     "output_type": "stream",
     "text": [
      "a\n",
      "c\n",
      "d\n"
     ]
    }
   ],
   "source": [
    "print(indexed_array[0]) #returns first element ('a')\n",
    "print(indexed_array[2]) #returns third element ('c')\n",
    "print(indexed_array[3]) #returns last element ('e')"
   ]
  },
  {
   "cell_type": "code",
   "execution_count": 7,
   "id": "69a8e7b7-a337-4184-aa2d-7e95a07e5780",
   "metadata": {},
   "outputs": [
    {
     "data": {
      "text/plain": [
       "array(['a', 'c', 'd'], dtype='<U1')"
      ]
     },
     "execution_count": 7,
     "metadata": {},
     "output_type": "execute_result"
    }
   ],
   "source": [
    "indexed_array[[0,2,3]]"
   ]
  },
  {
   "cell_type": "code",
   "execution_count": 8,
   "id": "fc687f36-b5c0-4240-b8a9-20afbc37ea0d",
   "metadata": {},
   "outputs": [
    {
     "data": {
      "text/plain": [
       "array(['a', 'b'], dtype='<U1')"
      ]
     },
     "execution_count": 8,
     "metadata": {},
     "output_type": "execute_result"
    }
   ],
   "source": [
    "indexed_array[0:2] # returns np.array(['a', 'b'])"
   ]
  },
  {
   "cell_type": "code",
   "execution_count": 13,
   "id": "eaee0eb0-7c7a-4cf9-a23f-78ab4076fbcd",
   "metadata": {},
   "outputs": [],
   "source": [
    "filtered_indices = [True,False,True,False]"
   ]
  },
  {
   "cell_type": "code",
   "execution_count": 14,
   "id": "9e494dfb-cf40-4a86-963a-4f291c56a968",
   "metadata": {},
   "outputs": [
    {
     "data": {
      "text/plain": [
       "array(['a', 'c'], dtype='<U1')"
      ]
     },
     "execution_count": 14,
     "metadata": {},
     "output_type": "execute_result"
    }
   ],
   "source": [
    "indexed_array[filtered_indices]"
   ]
  },
  {
   "cell_type": "code",
   "execution_count": 17,
   "id": "f5035c3d-070c-4132-a8ba-5b9546381cd7",
   "metadata": {},
   "outputs": [],
   "source": [
    "starts_with_a = [x == 'a' for x in indexed_array] #returns [true,false,false,false]"
   ]
  },
  {
   "cell_type": "code",
   "execution_count": 18,
   "id": "31cb5e54-7078-4185-99e5-cb067e3370c4",
   "metadata": {},
   "outputs": [
    {
     "data": {
      "text/plain": [
       "[True, False, False, False]"
      ]
     },
     "execution_count": 18,
     "metadata": {},
     "output_type": "execute_result"
    }
   ],
   "source": [
    "starts_with_a"
   ]
  },
  {
   "cell_type": "code",
   "execution_count": 19,
   "id": "3a1715cc-244a-467c-bb33-c5033e9de28d",
   "metadata": {},
   "outputs": [
    {
     "data": {
      "text/plain": [
       "array(['a'], dtype='<U1')"
      ]
     },
     "execution_count": 19,
     "metadata": {},
     "output_type": "execute_result"
    }
   ],
   "source": [
    "indexed_array[starts_with_a] #returns np.array(['a'])"
   ]
  },
  {
   "cell_type": "code",
   "execution_count": 20,
   "id": "d9f768b3-fa3e-4778-8cfd-57ded9c1b3b7",
   "metadata": {},
   "outputs": [
    {
     "data": {
      "text/plain": [
       "array([False, False,  True,  True,  True])"
      ]
     },
     "execution_count": 20,
     "metadata": {},
     "output_type": "execute_result"
    }
   ],
   "source": [
    "numbers_array = np.array([1,2,3,4,5])\n",
    "numbers_array > 2"
   ]
  },
  {
   "cell_type": "code",
   "execution_count": 22,
   "id": "49b6c853-0597-401b-95bc-853f7e15fa22",
   "metadata": {},
   "outputs": [
    {
     "data": {
      "text/plain": [
       "array([1, 2, 3, 4])"
      ]
     },
     "execution_count": 22,
     "metadata": {},
     "output_type": "execute_result"
    }
   ],
   "source": [
    "numbers = np.arange(1,5)\n",
    "numbers"
   ]
  },
  {
   "cell_type": "code",
   "execution_count": 23,
   "id": "177ab790-2e0a-4515-a637-c29111ee6dbe",
   "metadata": {},
   "outputs": [
    {
     "data": {
      "text/plain": [
       "array([1, 2, 3, 4])"
      ]
     },
     "execution_count": 23,
     "metadata": {},
     "output_type": "execute_result"
    }
   ],
   "source": [
    "example_array = np.array(numbers)\n",
    "example_array"
   ]
  },
  {
   "cell_type": "code",
   "execution_count": 24,
   "id": "96b4c0f3-ee9c-4d68-9c5f-e37c561c6fde",
   "metadata": {},
   "outputs": [
    {
     "data": {
      "text/plain": [
       "array([2, 4])"
      ]
     },
     "execution_count": 24,
     "metadata": {},
     "output_type": "execute_result"
    }
   ],
   "source": [
    "example_array[[x % 2 == 0 for x in example_array]]"
   ]
  },
  {
   "cell_type": "markdown",
   "id": "fe7a2341-134a-44be-a440-9a8b280e39b2",
   "metadata": {},
   "source": [
    "##### Filtering Pandas Rows"
   ]
  },
  {
   "cell_type": "code",
   "execution_count": 25,
   "id": "9c98e19c-44a5-4888-991f-ca246829d48d",
   "metadata": {},
   "outputs": [],
   "source": [
    "index = ['Apple', 'Google', 'Facebook', 'Microsoft', 'Amazon']\n",
    "age = [46, 24, 18, 47, 28]\n",
    "market_cap = [2.42, 1.29, 0.377, 1.77, 1.16]\n",
    "\n",
    "df = pd.DataFrame({'age': age, 'market_cap': market_cap}, index=index)"
   ]
  },
  {
   "cell_type": "code",
   "execution_count": 26,
   "id": "3edf262d-2a35-4ab7-bb10-03f093bf07ba",
   "metadata": {},
   "outputs": [
    {
     "data": {
      "text/html": [
       "<div>\n",
       "<style scoped>\n",
       "    .dataframe tbody tr th:only-of-type {\n",
       "        vertical-align: middle;\n",
       "    }\n",
       "\n",
       "    .dataframe tbody tr th {\n",
       "        vertical-align: top;\n",
       "    }\n",
       "\n",
       "    .dataframe thead th {\n",
       "        text-align: right;\n",
       "    }\n",
       "</style>\n",
       "<table border=\"1\" class=\"dataframe\">\n",
       "  <thead>\n",
       "    <tr style=\"text-align: right;\">\n",
       "      <th></th>\n",
       "      <th>age</th>\n",
       "      <th>market_cap</th>\n",
       "    </tr>\n",
       "  </thead>\n",
       "  <tbody>\n",
       "    <tr>\n",
       "      <th>Apple</th>\n",
       "      <td>46</td>\n",
       "      <td>2.420</td>\n",
       "    </tr>\n",
       "    <tr>\n",
       "      <th>Google</th>\n",
       "      <td>24</td>\n",
       "      <td>1.290</td>\n",
       "    </tr>\n",
       "    <tr>\n",
       "      <th>Facebook</th>\n",
       "      <td>18</td>\n",
       "      <td>0.377</td>\n",
       "    </tr>\n",
       "    <tr>\n",
       "      <th>Microsoft</th>\n",
       "      <td>47</td>\n",
       "      <td>1.770</td>\n",
       "    </tr>\n",
       "    <tr>\n",
       "      <th>Amazon</th>\n",
       "      <td>28</td>\n",
       "      <td>1.160</td>\n",
       "    </tr>\n",
       "  </tbody>\n",
       "</table>\n",
       "</div>"
      ],
      "text/plain": [
       "           age  market_cap\n",
       "Apple       46       2.420\n",
       "Google      24       1.290\n",
       "Facebook    18       0.377\n",
       "Microsoft   47       1.770\n",
       "Amazon      28       1.160"
      ]
     },
     "execution_count": 26,
     "metadata": {},
     "output_type": "execute_result"
    }
   ],
   "source": [
    "df"
   ]
  },
  {
   "cell_type": "markdown",
   "id": "69fb8aa4-9d43-4832-b489-126e59ae4f8c",
   "metadata": {},
   "source": [
    "##### Row Indexing"
   ]
  },
  {
   "cell_type": "code",
   "execution_count": 27,
   "id": "f538e7da-0ed4-400b-9abd-fff4191dcb38",
   "metadata": {},
   "outputs": [
    {
     "data": {
      "text/html": [
       "<div>\n",
       "<style scoped>\n",
       "    .dataframe tbody tr th:only-of-type {\n",
       "        vertical-align: middle;\n",
       "    }\n",
       "\n",
       "    .dataframe tbody tr th {\n",
       "        vertical-align: top;\n",
       "    }\n",
       "\n",
       "    .dataframe thead th {\n",
       "        text-align: right;\n",
       "    }\n",
       "</style>\n",
       "<table border=\"1\" class=\"dataframe\">\n",
       "  <thead>\n",
       "    <tr style=\"text-align: right;\">\n",
       "      <th></th>\n",
       "      <th>age</th>\n",
       "      <th>market_cap</th>\n",
       "    </tr>\n",
       "  </thead>\n",
       "  <tbody>\n",
       "    <tr>\n",
       "      <th>Apple</th>\n",
       "      <td>46</td>\n",
       "      <td>2.42</td>\n",
       "    </tr>\n",
       "    <tr>\n",
       "      <th>Amazon</th>\n",
       "      <td>28</td>\n",
       "      <td>1.16</td>\n",
       "    </tr>\n",
       "  </tbody>\n",
       "</table>\n",
       "</div>"
      ],
      "text/plain": [
       "        age  market_cap\n",
       "Apple    46        2.42\n",
       "Amazon   28        1.16"
      ]
     },
     "execution_count": 27,
     "metadata": {},
     "output_type": "execute_result"
    }
   ],
   "source": [
    "df.loc[['Apple','Amazon'],:]"
   ]
  },
  {
   "cell_type": "code",
   "execution_count": 28,
   "id": "bd7c585f-b68f-4cb7-a067-171e45758dea",
   "metadata": {},
   "outputs": [
    {
     "data": {
      "text/html": [
       "<div>\n",
       "<style scoped>\n",
       "    .dataframe tbody tr th:only-of-type {\n",
       "        vertical-align: middle;\n",
       "    }\n",
       "\n",
       "    .dataframe tbody tr th {\n",
       "        vertical-align: top;\n",
       "    }\n",
       "\n",
       "    .dataframe thead th {\n",
       "        text-align: right;\n",
       "    }\n",
       "</style>\n",
       "<table border=\"1\" class=\"dataframe\">\n",
       "  <thead>\n",
       "    <tr style=\"text-align: right;\">\n",
       "      <th></th>\n",
       "      <th>age</th>\n",
       "      <th>market_cap</th>\n",
       "    </tr>\n",
       "  </thead>\n",
       "  <tbody>\n",
       "    <tr>\n",
       "      <th>Apple</th>\n",
       "      <td>46</td>\n",
       "      <td>2.42</td>\n",
       "    </tr>\n",
       "    <tr>\n",
       "      <th>Google</th>\n",
       "      <td>24</td>\n",
       "      <td>1.29</td>\n",
       "    </tr>\n",
       "  </tbody>\n",
       "</table>\n",
       "</div>"
      ],
      "text/plain": [
       "        age  market_cap\n",
       "Apple    46        2.42\n",
       "Google   24        1.29"
      ]
     },
     "execution_count": 28,
     "metadata": {},
     "output_type": "execute_result"
    }
   ],
   "source": [
    "df.iloc[0:2,:]"
   ]
  },
  {
   "cell_type": "markdown",
   "id": "f2d83170-c945-4974-a5fb-2ffe195357aa",
   "metadata": {},
   "source": [
    "##### Broadcasting"
   ]
  },
  {
   "cell_type": "code",
   "execution_count": 29,
   "id": "3f7eb63e-9e94-45f4-a6fc-30d2799d2713",
   "metadata": {},
   "outputs": [
    {
     "data": {
      "text/html": [
       "<div>\n",
       "<style scoped>\n",
       "    .dataframe tbody tr th:only-of-type {\n",
       "        vertical-align: middle;\n",
       "    }\n",
       "\n",
       "    .dataframe tbody tr th {\n",
       "        vertical-align: top;\n",
       "    }\n",
       "\n",
       "    .dataframe thead th {\n",
       "        text-align: right;\n",
       "    }\n",
       "</style>\n",
       "<table border=\"1\" class=\"dataframe\">\n",
       "  <thead>\n",
       "    <tr style=\"text-align: right;\">\n",
       "      <th></th>\n",
       "      <th>age</th>\n",
       "      <th>market_cap</th>\n",
       "    </tr>\n",
       "  </thead>\n",
       "  <tbody>\n",
       "    <tr>\n",
       "      <th>Apple</th>\n",
       "      <td>46</td>\n",
       "      <td>2.42</td>\n",
       "    </tr>\n",
       "    <tr>\n",
       "      <th>Microsoft</th>\n",
       "      <td>47</td>\n",
       "      <td>1.77</td>\n",
       "    </tr>\n",
       "    <tr>\n",
       "      <th>Amazon</th>\n",
       "      <td>28</td>\n",
       "      <td>1.16</td>\n",
       "    </tr>\n",
       "  </tbody>\n",
       "</table>\n",
       "</div>"
      ],
      "text/plain": [
       "           age  market_cap\n",
       "Apple       46        2.42\n",
       "Microsoft   47        1.77\n",
       "Amazon      28        1.16"
      ]
     },
     "execution_count": 29,
     "metadata": {},
     "output_type": "execute_result"
    }
   ],
   "source": [
    "df[df.age > 25]"
   ]
  },
  {
   "cell_type": "markdown",
   "id": "537b76ef-2a95-4bdf-b4b7-fd4d5273f5cd",
   "metadata": {},
   "source": [
    "#### List comprehension"
   ]
  },
  {
   "cell_type": "code",
   "execution_count": 30,
   "id": "61d4bbc2-12fb-4d34-bd34-fc207ea6dcb3",
   "metadata": {},
   "outputs": [
    {
     "data": {
      "text/html": [
       "<div>\n",
       "<style scoped>\n",
       "    .dataframe tbody tr th:only-of-type {\n",
       "        vertical-align: middle;\n",
       "    }\n",
       "\n",
       "    .dataframe tbody tr th {\n",
       "        vertical-align: top;\n",
       "    }\n",
       "\n",
       "    .dataframe thead th {\n",
       "        text-align: right;\n",
       "    }\n",
       "</style>\n",
       "<table border=\"1\" class=\"dataframe\">\n",
       "  <thead>\n",
       "    <tr style=\"text-align: right;\">\n",
       "      <th></th>\n",
       "      <th>age</th>\n",
       "      <th>market_cap</th>\n",
       "    </tr>\n",
       "  </thead>\n",
       "  <tbody>\n",
       "    <tr>\n",
       "      <th>Apple</th>\n",
       "      <td>46</td>\n",
       "      <td>2.42</td>\n",
       "    </tr>\n",
       "    <tr>\n",
       "      <th>Amazon</th>\n",
       "      <td>28</td>\n",
       "      <td>1.16</td>\n",
       "    </tr>\n",
       "  </tbody>\n",
       "</table>\n",
       "</div>"
      ],
      "text/plain": [
       "        age  market_cap\n",
       "Apple    46        2.42\n",
       "Amazon   28        1.16"
      ]
     },
     "execution_count": 30,
     "metadata": {},
     "output_type": "execute_result"
    }
   ],
   "source": [
    "df[[x in ['Apple','Amazon'] for x in df.index.values]]"
   ]
  },
  {
   "cell_type": "markdown",
   "id": "a0b78d80-d111-4df9-a492-5cfc4ddf067e",
   "metadata": {},
   "source": [
    "##### Compound Logical Statements"
   ]
  },
  {
   "cell_type": "code",
   "execution_count": 31,
   "id": "548cfff8-c19c-4509-a6ed-20b24b47fd01",
   "metadata": {},
   "outputs": [
    {
     "data": {
      "text/html": [
       "<div>\n",
       "<style scoped>\n",
       "    .dataframe tbody tr th:only-of-type {\n",
       "        vertical-align: middle;\n",
       "    }\n",
       "\n",
       "    .dataframe tbody tr th {\n",
       "        vertical-align: top;\n",
       "    }\n",
       "\n",
       "    .dataframe thead th {\n",
       "        text-align: right;\n",
       "    }\n",
       "</style>\n",
       "<table border=\"1\" class=\"dataframe\">\n",
       "  <thead>\n",
       "    <tr style=\"text-align: right;\">\n",
       "      <th></th>\n",
       "      <th>age</th>\n",
       "      <th>market_cap</th>\n",
       "    </tr>\n",
       "  </thead>\n",
       "  <tbody>\n",
       "    <tr>\n",
       "      <th>Apple</th>\n",
       "      <td>46</td>\n",
       "      <td>2.42</td>\n",
       "    </tr>\n",
       "  </tbody>\n",
       "</table>\n",
       "</div>"
      ],
      "text/plain": [
       "       age  market_cap\n",
       "Apple   46        2.42"
      ]
     },
     "execution_count": 31,
     "metadata": {},
     "output_type": "execute_result"
    }
   ],
   "source": [
    "df[(df.age > 25) & (df.market_cap > 2)]"
   ]
  },
  {
   "cell_type": "markdown",
   "id": "31cbecd7-e9a8-468e-81fd-6933e5643fb6",
   "metadata": {},
   "source": [
    "#### Querying"
   ]
  },
  {
   "cell_type": "code",
   "execution_count": 32,
   "id": "5157c444-49e7-4e15-9000-c3cb64124358",
   "metadata": {},
   "outputs": [
    {
     "data": {
      "text/html": [
       "<div>\n",
       "<style scoped>\n",
       "    .dataframe tbody tr th:only-of-type {\n",
       "        vertical-align: middle;\n",
       "    }\n",
       "\n",
       "    .dataframe tbody tr th {\n",
       "        vertical-align: top;\n",
       "    }\n",
       "\n",
       "    .dataframe thead th {\n",
       "        text-align: right;\n",
       "    }\n",
       "</style>\n",
       "<table border=\"1\" class=\"dataframe\">\n",
       "  <thead>\n",
       "    <tr style=\"text-align: right;\">\n",
       "      <th></th>\n",
       "      <th>age</th>\n",
       "      <th>market_cap</th>\n",
       "    </tr>\n",
       "  </thead>\n",
       "  <tbody>\n",
       "    <tr>\n",
       "      <th>Apple</th>\n",
       "      <td>46</td>\n",
       "      <td>2.42</td>\n",
       "    </tr>\n",
       "    <tr>\n",
       "      <th>Microsoft</th>\n",
       "      <td>47</td>\n",
       "      <td>1.77</td>\n",
       "    </tr>\n",
       "    <tr>\n",
       "      <th>Amazon</th>\n",
       "      <td>28</td>\n",
       "      <td>1.16</td>\n",
       "    </tr>\n",
       "  </tbody>\n",
       "</table>\n",
       "</div>"
      ],
      "text/plain": [
       "           age  market_cap\n",
       "Apple       46        2.42\n",
       "Microsoft   47        1.77\n",
       "Amazon      28        1.16"
      ]
     },
     "execution_count": 32,
     "metadata": {},
     "output_type": "execute_result"
    }
   ],
   "source": [
    "df.query('age > 25')"
   ]
  },
  {
   "cell_type": "code",
   "execution_count": 33,
   "id": "d8114915-7ec9-4833-9290-4c3694df2633",
   "metadata": {},
   "outputs": [
    {
     "data": {
      "text/html": [
       "<div>\n",
       "<style scoped>\n",
       "    .dataframe tbody tr th:only-of-type {\n",
       "        vertical-align: middle;\n",
       "    }\n",
       "\n",
       "    .dataframe tbody tr th {\n",
       "        vertical-align: top;\n",
       "    }\n",
       "\n",
       "    .dataframe thead th {\n",
       "        text-align: right;\n",
       "    }\n",
       "</style>\n",
       "<table border=\"1\" class=\"dataframe\">\n",
       "  <thead>\n",
       "    <tr style=\"text-align: right;\">\n",
       "      <th></th>\n",
       "      <th>age</th>\n",
       "      <th>market_cap</th>\n",
       "    </tr>\n",
       "  </thead>\n",
       "  <tbody>\n",
       "    <tr>\n",
       "      <th>Apple</th>\n",
       "      <td>46</td>\n",
       "      <td>2.42</td>\n",
       "    </tr>\n",
       "    <tr>\n",
       "      <th>Amazon</th>\n",
       "      <td>28</td>\n",
       "      <td>1.16</td>\n",
       "    </tr>\n",
       "  </tbody>\n",
       "</table>\n",
       "</div>"
      ],
      "text/plain": [
       "        age  market_cap\n",
       "Apple    46        2.42\n",
       "Amazon   28        1.16"
      ]
     },
     "execution_count": 33,
     "metadata": {},
     "output_type": "execute_result"
    }
   ],
   "source": [
    "df.query(\"index in ('Apple','Amazon')\")"
   ]
  },
  {
   "cell_type": "markdown",
   "id": "e2e0bda3-3296-4e51-af34-08514c707aec",
   "metadata": {},
   "source": [
    "##### Selection using Indexes"
   ]
  },
  {
   "cell_type": "code",
   "execution_count": 34,
   "id": "34175f22-d4c5-4512-b48a-ef4f50dcd230",
   "metadata": {},
   "outputs": [
    {
     "data": {
      "text/html": [
       "<div>\n",
       "<style scoped>\n",
       "    .dataframe tbody tr th:only-of-type {\n",
       "        vertical-align: middle;\n",
       "    }\n",
       "\n",
       "    .dataframe tbody tr th {\n",
       "        vertical-align: top;\n",
       "    }\n",
       "\n",
       "    .dataframe thead th {\n",
       "        text-align: right;\n",
       "    }\n",
       "</style>\n",
       "<table border=\"1\" class=\"dataframe\">\n",
       "  <thead>\n",
       "    <tr style=\"text-align: right;\">\n",
       "      <th></th>\n",
       "      <th>age</th>\n",
       "    </tr>\n",
       "  </thead>\n",
       "  <tbody>\n",
       "    <tr>\n",
       "      <th>Apple</th>\n",
       "      <td>46</td>\n",
       "    </tr>\n",
       "    <tr>\n",
       "      <th>Google</th>\n",
       "      <td>24</td>\n",
       "    </tr>\n",
       "    <tr>\n",
       "      <th>Facebook</th>\n",
       "      <td>18</td>\n",
       "    </tr>\n",
       "    <tr>\n",
       "      <th>Microsoft</th>\n",
       "      <td>47</td>\n",
       "    </tr>\n",
       "    <tr>\n",
       "      <th>Amazon</th>\n",
       "      <td>28</td>\n",
       "    </tr>\n",
       "  </tbody>\n",
       "</table>\n",
       "</div>"
      ],
      "text/plain": [
       "           age\n",
       "Apple       46\n",
       "Google      24\n",
       "Facebook    18\n",
       "Microsoft   47\n",
       "Amazon      28"
      ]
     },
     "execution_count": 34,
     "metadata": {},
     "output_type": "execute_result"
    }
   ],
   "source": [
    "df.loc[:,['age']]"
   ]
  },
  {
   "cell_type": "code",
   "execution_count": 35,
   "id": "aba4324f-2cf4-473e-8f5d-6352a4b71f0f",
   "metadata": {},
   "outputs": [
    {
     "data": {
      "text/html": [
       "<div>\n",
       "<style scoped>\n",
       "    .dataframe tbody tr th:only-of-type {\n",
       "        vertical-align: middle;\n",
       "    }\n",
       "\n",
       "    .dataframe tbody tr th {\n",
       "        vertical-align: top;\n",
       "    }\n",
       "\n",
       "    .dataframe thead th {\n",
       "        text-align: right;\n",
       "    }\n",
       "</style>\n",
       "<table border=\"1\" class=\"dataframe\">\n",
       "  <thead>\n",
       "    <tr style=\"text-align: right;\">\n",
       "      <th></th>\n",
       "      <th>age</th>\n",
       "    </tr>\n",
       "  </thead>\n",
       "  <tbody>\n",
       "    <tr>\n",
       "      <th>Apple</th>\n",
       "      <td>46</td>\n",
       "    </tr>\n",
       "    <tr>\n",
       "      <th>Google</th>\n",
       "      <td>24</td>\n",
       "    </tr>\n",
       "    <tr>\n",
       "      <th>Facebook</th>\n",
       "      <td>18</td>\n",
       "    </tr>\n",
       "    <tr>\n",
       "      <th>Microsoft</th>\n",
       "      <td>47</td>\n",
       "    </tr>\n",
       "    <tr>\n",
       "      <th>Amazon</th>\n",
       "      <td>28</td>\n",
       "    </tr>\n",
       "  </tbody>\n",
       "</table>\n",
       "</div>"
      ],
      "text/plain": [
       "           age\n",
       "Apple       46\n",
       "Google      24\n",
       "Facebook    18\n",
       "Microsoft   47\n",
       "Amazon      28"
      ]
     },
     "execution_count": 35,
     "metadata": {},
     "output_type": "execute_result"
    }
   ],
   "source": [
    "df.iloc[:,[0]]"
   ]
  },
  {
   "cell_type": "markdown",
   "id": "5fda87ce-4f0b-491e-976a-4fa145c8bf2b",
   "metadata": {},
   "source": [
    "##### Selecting using Column Names"
   ]
  },
  {
   "cell_type": "code",
   "execution_count": 36,
   "id": "354fb9b7-935f-4eae-9796-166cb83f5936",
   "metadata": {},
   "outputs": [
    {
     "data": {
      "text/html": [
       "<div>\n",
       "<style scoped>\n",
       "    .dataframe tbody tr th:only-of-type {\n",
       "        vertical-align: middle;\n",
       "    }\n",
       "\n",
       "    .dataframe tbody tr th {\n",
       "        vertical-align: top;\n",
       "    }\n",
       "\n",
       "    .dataframe thead th {\n",
       "        text-align: right;\n",
       "    }\n",
       "</style>\n",
       "<table border=\"1\" class=\"dataframe\">\n",
       "  <thead>\n",
       "    <tr style=\"text-align: right;\">\n",
       "      <th></th>\n",
       "      <th>market_cap</th>\n",
       "    </tr>\n",
       "  </thead>\n",
       "  <tbody>\n",
       "    <tr>\n",
       "      <th>Apple</th>\n",
       "      <td>2.420</td>\n",
       "    </tr>\n",
       "    <tr>\n",
       "      <th>Google</th>\n",
       "      <td>1.290</td>\n",
       "    </tr>\n",
       "    <tr>\n",
       "      <th>Facebook</th>\n",
       "      <td>0.377</td>\n",
       "    </tr>\n",
       "    <tr>\n",
       "      <th>Microsoft</th>\n",
       "      <td>1.770</td>\n",
       "    </tr>\n",
       "    <tr>\n",
       "      <th>Amazon</th>\n",
       "      <td>1.160</td>\n",
       "    </tr>\n",
       "  </tbody>\n",
       "</table>\n",
       "</div>"
      ],
      "text/plain": [
       "           market_cap\n",
       "Apple           2.420\n",
       "Google          1.290\n",
       "Facebook        0.377\n",
       "Microsoft       1.770\n",
       "Amazon          1.160"
      ]
     },
     "execution_count": 36,
     "metadata": {},
     "output_type": "execute_result"
    }
   ],
   "source": [
    "df[['market_cap']]"
   ]
  },
  {
   "cell_type": "markdown",
   "id": "ba50ecae-a962-486f-9c3b-01a256e41eee",
   "metadata": {},
   "source": [
    "##### Selecting using Data Types"
   ]
  },
  {
   "cell_type": "code",
   "execution_count": 37,
   "id": "ed300480-176a-43eb-a118-d1bc1037f753",
   "metadata": {},
   "outputs": [
    {
     "data": {
      "text/html": [
       "<div>\n",
       "<style scoped>\n",
       "    .dataframe tbody tr th:only-of-type {\n",
       "        vertical-align: middle;\n",
       "    }\n",
       "\n",
       "    .dataframe tbody tr th {\n",
       "        vertical-align: top;\n",
       "    }\n",
       "\n",
       "    .dataframe thead th {\n",
       "        text-align: right;\n",
       "    }\n",
       "</style>\n",
       "<table border=\"1\" class=\"dataframe\">\n",
       "  <thead>\n",
       "    <tr style=\"text-align: right;\">\n",
       "      <th></th>\n",
       "      <th>age</th>\n",
       "    </tr>\n",
       "  </thead>\n",
       "  <tbody>\n",
       "    <tr>\n",
       "      <th>Apple</th>\n",
       "      <td>46</td>\n",
       "    </tr>\n",
       "    <tr>\n",
       "      <th>Google</th>\n",
       "      <td>24</td>\n",
       "    </tr>\n",
       "    <tr>\n",
       "      <th>Facebook</th>\n",
       "      <td>18</td>\n",
       "    </tr>\n",
       "    <tr>\n",
       "      <th>Microsoft</th>\n",
       "      <td>47</td>\n",
       "    </tr>\n",
       "    <tr>\n",
       "      <th>Amazon</th>\n",
       "      <td>28</td>\n",
       "    </tr>\n",
       "  </tbody>\n",
       "</table>\n",
       "</div>"
      ],
      "text/plain": [
       "           age\n",
       "Apple       46\n",
       "Google      24\n",
       "Facebook    18\n",
       "Microsoft   47\n",
       "Amazon      28"
      ]
     },
     "execution_count": 37,
     "metadata": {},
     "output_type": "execute_result"
    }
   ],
   "source": [
    "df.select_dtypes('int64')"
   ]
  },
  {
   "cell_type": "markdown",
   "id": "9c6f4894-b05a-489c-b49e-845ba0cf4034",
   "metadata": {},
   "source": [
    "##### Common Scenarios to use pandas filters"
   ]
  },
  {
   "cell_type": "code",
   "execution_count": 38,
   "id": "f83dd2fc-75a5-490d-8346-8380656952dd",
   "metadata": {},
   "outputs": [
    {
     "data": {
      "text/html": [
       "<div>\n",
       "<style scoped>\n",
       "    .dataframe tbody tr th:only-of-type {\n",
       "        vertical-align: middle;\n",
       "    }\n",
       "\n",
       "    .dataframe tbody tr th {\n",
       "        vertical-align: top;\n",
       "    }\n",
       "\n",
       "    .dataframe thead th {\n",
       "        text-align: right;\n",
       "    }\n",
       "</style>\n",
       "<table border=\"1\" class=\"dataframe\">\n",
       "  <thead>\n",
       "    <tr style=\"text-align: right;\">\n",
       "      <th></th>\n",
       "      <th>date</th>\n",
       "      <th>snowfall</th>\n",
       "      <th>location</th>\n",
       "    </tr>\n",
       "  </thead>\n",
       "  <tbody>\n",
       "    <tr>\n",
       "      <th>Great Texas Snowstorm of 2021</th>\n",
       "      <td>2021-02-14</td>\n",
       "      <td>20.3</td>\n",
       "      <td>Texas</td>\n",
       "    </tr>\n",
       "    <tr>\n",
       "      <th>Buffalo Blizzard of 1977</th>\n",
       "      <td>1977-01-27</td>\n",
       "      <td>150.0</td>\n",
       "      <td>New York</td>\n",
       "    </tr>\n",
       "    <tr>\n",
       "      <th>Great Snow of 1717</th>\n",
       "      <td>1717-03-01</td>\n",
       "      <td>122.0</td>\n",
       "      <td>New England</td>\n",
       "    </tr>\n",
       "    <tr>\n",
       "      <th>Mount Shasta Blizzard of 1959</th>\n",
       "      <td>1959-02-19</td>\n",
       "      <td>480.0</td>\n",
       "      <td>California</td>\n",
       "    </tr>\n",
       "  </tbody>\n",
       "</table>\n",
       "</div>"
      ],
      "text/plain": [
       "                                     date  snowfall     location\n",
       "Great Texas Snowstorm of 2021  2021-02-14      20.3        Texas\n",
       "Buffalo Blizzard of 1977       1977-01-27     150.0     New York\n",
       "Great Snow of 1717             1717-03-01     122.0  New England\n",
       "Mount Shasta Blizzard of 1959  1959-02-19     480.0   California"
      ]
     },
     "execution_count": 38,
     "metadata": {},
     "output_type": "execute_result"
    }
   ],
   "source": [
    "index = ['Great Texas Snowstorm of 2021', 'Buffalo Blizzard of 1977', 'Great Snow of 1717','Mount Shasta Blizzard of 1959']\n",
    "date = ['2021-02-14','1977-01-27','1717-03-01','1959-02-19']\n",
    "snowfall = [20.3, 150, 122, 480]\n",
    "location = ['Texas','New York','New England','California']\n",
    "\n",
    "blizzards = pd.DataFrame({'date': date, 'snowfall': snowfall, 'location':location}, index=index)\n",
    "\n",
    "blizzards"
   ]
  },
  {
   "cell_type": "markdown",
   "id": "0ae257a1-ba66-4e6f-8705-671db561944a",
   "metadata": {},
   "source": [
    "##### Filtering by substring criteria"
   ]
  },
  {
   "cell_type": "code",
   "execution_count": 51,
   "id": "013a450e-ab8d-4652-93c1-5a9db45e0da5",
   "metadata": {},
   "outputs": [
    {
     "data": {
      "text/html": [
       "<div>\n",
       "<style scoped>\n",
       "    .dataframe tbody tr th:only-of-type {\n",
       "        vertical-align: middle;\n",
       "    }\n",
       "\n",
       "    .dataframe tbody tr th {\n",
       "        vertical-align: top;\n",
       "    }\n",
       "\n",
       "    .dataframe thead th {\n",
       "        text-align: right;\n",
       "    }\n",
       "</style>\n",
       "<table border=\"1\" class=\"dataframe\">\n",
       "  <thead>\n",
       "    <tr style=\"text-align: right;\">\n",
       "      <th></th>\n",
       "      <th>date</th>\n",
       "      <th>snowfall</th>\n",
       "      <th>location</th>\n",
       "    </tr>\n",
       "  </thead>\n",
       "  <tbody>\n",
       "    <tr>\n",
       "      <th>Great Texas Snowstorm of 2021</th>\n",
       "      <td>2021-02-14</td>\n",
       "      <td>20.3</td>\n",
       "      <td>Texas</td>\n",
       "    </tr>\n",
       "    <tr>\n",
       "      <th>Great Snow of 1717</th>\n",
       "      <td>1717-03-01</td>\n",
       "      <td>122.0</td>\n",
       "      <td>New England</td>\n",
       "    </tr>\n",
       "  </tbody>\n",
       "</table>\n",
       "</div>"
      ],
      "text/plain": [
       "                                     date  snowfall     location\n",
       "Great Texas Snowstorm of 2021  2021-02-14      20.3        Texas\n",
       "Great Snow of 1717             1717-03-01     122.0  New England"
      ]
     },
     "execution_count": 51,
     "metadata": {},
     "output_type": "execute_result"
    }
   ],
   "source": [
    "blizzards[blizzards.index.str.contains('Snow')] # conditionals"
   ]
  },
  {
   "cell_type": "code",
   "execution_count": 40,
   "id": "744da92e-ab2b-43c0-9545-ff74bc7f94cf",
   "metadata": {},
   "outputs": [
    {
     "data": {
      "text/html": [
       "<div>\n",
       "<style scoped>\n",
       "    .dataframe tbody tr th:only-of-type {\n",
       "        vertical-align: middle;\n",
       "    }\n",
       "\n",
       "    .dataframe tbody tr th {\n",
       "        vertical-align: top;\n",
       "    }\n",
       "\n",
       "    .dataframe thead th {\n",
       "        text-align: right;\n",
       "    }\n",
       "</style>\n",
       "<table border=\"1\" class=\"dataframe\">\n",
       "  <thead>\n",
       "    <tr style=\"text-align: right;\">\n",
       "      <th></th>\n",
       "      <th>date</th>\n",
       "      <th>snowfall</th>\n",
       "      <th>location</th>\n",
       "    </tr>\n",
       "  </thead>\n",
       "  <tbody>\n",
       "    <tr>\n",
       "      <th>Great Texas Snowstorm of 2021</th>\n",
       "      <td>2021-02-14</td>\n",
       "      <td>20.3</td>\n",
       "      <td>Texas</td>\n",
       "    </tr>\n",
       "    <tr>\n",
       "      <th>Great Snow of 1717</th>\n",
       "      <td>1717-03-01</td>\n",
       "      <td>122.0</td>\n",
       "      <td>New England</td>\n",
       "    </tr>\n",
       "  </tbody>\n",
       "</table>\n",
       "</div>"
      ],
      "text/plain": [
       "                                     date  snowfall     location\n",
       "Great Texas Snowstorm of 2021  2021-02-14      20.3        Texas\n",
       "Great Snow of 1717             1717-03-01     122.0  New England"
      ]
     },
     "execution_count": 40,
     "metadata": {},
     "output_type": "execute_result"
    }
   ],
   "source": [
    "blizzards.query(\"index.str.contains('Snow').values\") #Querying"
   ]
  },
  {
   "cell_type": "markdown",
   "id": "01747429-9802-4b40-9efc-c681dd9411d9",
   "metadata": {},
   "source": [
    "##### Filtering on Dates"
   ]
  },
  {
   "cell_type": "code",
   "execution_count": 41,
   "id": "99bebbfa-2f81-4d10-84c8-bcf8875917fb",
   "metadata": {},
   "outputs": [
    {
     "data": {
      "text/html": [
       "<div>\n",
       "<style scoped>\n",
       "    .dataframe tbody tr th:only-of-type {\n",
       "        vertical-align: middle;\n",
       "    }\n",
       "\n",
       "    .dataframe tbody tr th {\n",
       "        vertical-align: top;\n",
       "    }\n",
       "\n",
       "    .dataframe thead th {\n",
       "        text-align: right;\n",
       "    }\n",
       "</style>\n",
       "<table border=\"1\" class=\"dataframe\">\n",
       "  <thead>\n",
       "    <tr style=\"text-align: right;\">\n",
       "      <th></th>\n",
       "      <th>date</th>\n",
       "      <th>snowfall</th>\n",
       "      <th>location</th>\n",
       "    </tr>\n",
       "  </thead>\n",
       "  <tbody>\n",
       "    <tr>\n",
       "      <th>Buffalo Blizzard of 1977</th>\n",
       "      <td>1977-01-27</td>\n",
       "      <td>150.0</td>\n",
       "      <td>New York</td>\n",
       "    </tr>\n",
       "    <tr>\n",
       "      <th>Mount Shasta Blizzard of 1959</th>\n",
       "      <td>1959-02-19</td>\n",
       "      <td>480.0</td>\n",
       "      <td>California</td>\n",
       "    </tr>\n",
       "  </tbody>\n",
       "</table>\n",
       "</div>"
      ],
      "text/plain": [
       "                                     date  snowfall    location\n",
       "Buffalo Blizzard of 1977       1977-01-27     150.0    New York\n",
       "Mount Shasta Blizzard of 1959  1959-02-19     480.0  California"
      ]
     },
     "execution_count": 41,
     "metadata": {},
     "output_type": "execute_result"
    }
   ],
   "source": [
    "blizzards[(blizzards.date > '1900-01-01') & (blizzards.date < '2000-01-01')] #Conditional"
   ]
  },
  {
   "cell_type": "code",
   "execution_count": 42,
   "id": "27e04f18-3256-425f-acbb-18a97ee2b832",
   "metadata": {},
   "outputs": [
    {
     "data": {
      "text/html": [
       "<div>\n",
       "<style scoped>\n",
       "    .dataframe tbody tr th:only-of-type {\n",
       "        vertical-align: middle;\n",
       "    }\n",
       "\n",
       "    .dataframe tbody tr th {\n",
       "        vertical-align: top;\n",
       "    }\n",
       "\n",
       "    .dataframe thead th {\n",
       "        text-align: right;\n",
       "    }\n",
       "</style>\n",
       "<table border=\"1\" class=\"dataframe\">\n",
       "  <thead>\n",
       "    <tr style=\"text-align: right;\">\n",
       "      <th></th>\n",
       "      <th>date</th>\n",
       "      <th>snowfall</th>\n",
       "      <th>location</th>\n",
       "    </tr>\n",
       "  </thead>\n",
       "  <tbody>\n",
       "    <tr>\n",
       "      <th>Buffalo Blizzard of 1977</th>\n",
       "      <td>1977-01-27</td>\n",
       "      <td>150.0</td>\n",
       "      <td>New York</td>\n",
       "    </tr>\n",
       "    <tr>\n",
       "      <th>Mount Shasta Blizzard of 1959</th>\n",
       "      <td>1959-02-19</td>\n",
       "      <td>480.0</td>\n",
       "      <td>California</td>\n",
       "    </tr>\n",
       "  </tbody>\n",
       "</table>\n",
       "</div>"
      ],
      "text/plain": [
       "                                     date  snowfall    location\n",
       "Buffalo Blizzard of 1977       1977-01-27     150.0    New York\n",
       "Mount Shasta Blizzard of 1959  1959-02-19     480.0  California"
      ]
     },
     "execution_count": 42,
     "metadata": {},
     "output_type": "execute_result"
    }
   ],
   "source": [
    "blizzards.query(\"date > '1900-01-01' and date < '2000-01-01'\") #Querying"
   ]
  },
  {
   "cell_type": "markdown",
   "id": "1a6a7abb-fbac-4581-a009-fe8c5317c239",
   "metadata": {},
   "source": [
    "##### Filtering Using ‘in’ and ‘not in’"
   ]
  },
  {
   "cell_type": "code",
   "execution_count": 44,
   "id": "b3883dda-2cf0-42ee-a22f-8bb9c86470bb",
   "metadata": {},
   "outputs": [
    {
     "data": {
      "text/html": [
       "<div>\n",
       "<style scoped>\n",
       "    .dataframe tbody tr th:only-of-type {\n",
       "        vertical-align: middle;\n",
       "    }\n",
       "\n",
       "    .dataframe tbody tr th {\n",
       "        vertical-align: top;\n",
       "    }\n",
       "\n",
       "    .dataframe thead th {\n",
       "        text-align: right;\n",
       "    }\n",
       "</style>\n",
       "<table border=\"1\" class=\"dataframe\">\n",
       "  <thead>\n",
       "    <tr style=\"text-align: right;\">\n",
       "      <th></th>\n",
       "      <th>date</th>\n",
       "      <th>snowfall</th>\n",
       "      <th>location</th>\n",
       "    </tr>\n",
       "  </thead>\n",
       "  <tbody>\n",
       "    <tr>\n",
       "      <th>Great Texas Snowstorm of 2021</th>\n",
       "      <td>2021-02-14</td>\n",
       "      <td>20.3</td>\n",
       "      <td>Texas</td>\n",
       "    </tr>\n",
       "    <tr>\n",
       "      <th>Buffalo Blizzard of 1977</th>\n",
       "      <td>1977-01-27</td>\n",
       "      <td>150.0</td>\n",
       "      <td>New York</td>\n",
       "    </tr>\n",
       "  </tbody>\n",
       "</table>\n",
       "</div>"
      ],
      "text/plain": [
       "                                     date  snowfall  location\n",
       "Great Texas Snowstorm of 2021  2021-02-14      20.3     Texas\n",
       "Buffalo Blizzard of 1977       1977-01-27     150.0  New York"
      ]
     },
     "execution_count": 44,
     "metadata": {},
     "output_type": "execute_result"
    }
   ],
   "source": [
    "select_locations = ['New York','Texas']\n",
    "\n",
    "blizzards[blizzards.location.isin(select_locations)] #Conditional"
   ]
  },
  {
   "cell_type": "code",
   "execution_count": 45,
   "id": "95f731ec-2bdd-44bc-a557-0f8207bbf968",
   "metadata": {},
   "outputs": [
    {
     "data": {
      "text/html": [
       "<div>\n",
       "<style scoped>\n",
       "    .dataframe tbody tr th:only-of-type {\n",
       "        vertical-align: middle;\n",
       "    }\n",
       "\n",
       "    .dataframe tbody tr th {\n",
       "        vertical-align: top;\n",
       "    }\n",
       "\n",
       "    .dataframe thead th {\n",
       "        text-align: right;\n",
       "    }\n",
       "</style>\n",
       "<table border=\"1\" class=\"dataframe\">\n",
       "  <thead>\n",
       "    <tr style=\"text-align: right;\">\n",
       "      <th></th>\n",
       "      <th>date</th>\n",
       "      <th>snowfall</th>\n",
       "      <th>location</th>\n",
       "    </tr>\n",
       "  </thead>\n",
       "  <tbody>\n",
       "    <tr>\n",
       "      <th>Great Texas Snowstorm of 2021</th>\n",
       "      <td>2021-02-14</td>\n",
       "      <td>20.3</td>\n",
       "      <td>Texas</td>\n",
       "    </tr>\n",
       "    <tr>\n",
       "      <th>Buffalo Blizzard of 1977</th>\n",
       "      <td>1977-01-27</td>\n",
       "      <td>150.0</td>\n",
       "      <td>New York</td>\n",
       "    </tr>\n",
       "  </tbody>\n",
       "</table>\n",
       "</div>"
      ],
      "text/plain": [
       "                                     date  snowfall  location\n",
       "Great Texas Snowstorm of 2021  2021-02-14      20.3     Texas\n",
       "Buffalo Blizzard of 1977       1977-01-27     150.0  New York"
      ]
     },
     "execution_count": 45,
     "metadata": {},
     "output_type": "execute_result"
    }
   ],
   "source": [
    "blizzards.query(\"location in ('New York','Texas')\") #Querying"
   ]
  },
  {
   "cell_type": "code",
   "execution_count": 46,
   "id": "72278eb8-e9bc-4fd9-a1c5-ddf3b37fddf1",
   "metadata": {},
   "outputs": [
    {
     "data": {
      "text/html": [
       "<div>\n",
       "<style scoped>\n",
       "    .dataframe tbody tr th:only-of-type {\n",
       "        vertical-align: middle;\n",
       "    }\n",
       "\n",
       "    .dataframe tbody tr th {\n",
       "        vertical-align: top;\n",
       "    }\n",
       "\n",
       "    .dataframe thead th {\n",
       "        text-align: right;\n",
       "    }\n",
       "</style>\n",
       "<table border=\"1\" class=\"dataframe\">\n",
       "  <thead>\n",
       "    <tr style=\"text-align: right;\">\n",
       "      <th></th>\n",
       "      <th>date</th>\n",
       "      <th>snowfall</th>\n",
       "      <th>location</th>\n",
       "    </tr>\n",
       "  </thead>\n",
       "  <tbody>\n",
       "    <tr>\n",
       "      <th>Great Snow of 1717</th>\n",
       "      <td>1717-03-01</td>\n",
       "      <td>122.0</td>\n",
       "      <td>New England</td>\n",
       "    </tr>\n",
       "    <tr>\n",
       "      <th>Mount Shasta Blizzard of 1959</th>\n",
       "      <td>1959-02-19</td>\n",
       "      <td>480.0</td>\n",
       "      <td>California</td>\n",
       "    </tr>\n",
       "  </tbody>\n",
       "</table>\n",
       "</div>"
      ],
      "text/plain": [
       "                                     date  snowfall     location\n",
       "Great Snow of 1717             1717-03-01     122.0  New England\n",
       "Mount Shasta Blizzard of 1959  1959-02-19     480.0   California"
      ]
     },
     "execution_count": 46,
     "metadata": {},
     "output_type": "execute_result"
    }
   ],
   "source": [
    "blizzards[~blizzards.location.isin(select_locations)] #Conditional"
   ]
  },
  {
   "cell_type": "code",
   "execution_count": 47,
   "id": "1962c075-710d-489b-b754-88b952d02ec2",
   "metadata": {},
   "outputs": [
    {
     "data": {
      "text/html": [
       "<div>\n",
       "<style scoped>\n",
       "    .dataframe tbody tr th:only-of-type {\n",
       "        vertical-align: middle;\n",
       "    }\n",
       "\n",
       "    .dataframe tbody tr th {\n",
       "        vertical-align: top;\n",
       "    }\n",
       "\n",
       "    .dataframe thead th {\n",
       "        text-align: right;\n",
       "    }\n",
       "</style>\n",
       "<table border=\"1\" class=\"dataframe\">\n",
       "  <thead>\n",
       "    <tr style=\"text-align: right;\">\n",
       "      <th></th>\n",
       "      <th>date</th>\n",
       "      <th>snowfall</th>\n",
       "      <th>location</th>\n",
       "    </tr>\n",
       "  </thead>\n",
       "  <tbody>\n",
       "    <tr>\n",
       "      <th>Great Snow of 1717</th>\n",
       "      <td>1717-03-01</td>\n",
       "      <td>122.0</td>\n",
       "      <td>New England</td>\n",
       "    </tr>\n",
       "    <tr>\n",
       "      <th>Mount Shasta Blizzard of 1959</th>\n",
       "      <td>1959-02-19</td>\n",
       "      <td>480.0</td>\n",
       "      <td>California</td>\n",
       "    </tr>\n",
       "  </tbody>\n",
       "</table>\n",
       "</div>"
      ],
      "text/plain": [
       "                                     date  snowfall     location\n",
       "Great Snow of 1717             1717-03-01     122.0  New England\n",
       "Mount Shasta Blizzard of 1959  1959-02-19     480.0   California"
      ]
     },
     "execution_count": 47,
     "metadata": {},
     "output_type": "execute_result"
    }
   ],
   "source": [
    "blizzards.query(\"location not in ('New York','Texas')\") #Querying"
   ]
  },
  {
   "cell_type": "markdown",
   "id": "b100d488-32e7-4e4e-b8b1-6e74efe0a79a",
   "metadata": {},
   "source": [
    "##### Operator Chaining"
   ]
  },
  {
   "cell_type": "code",
   "execution_count": 49,
   "id": "aad22779-b6c7-4b7e-9a2b-0d12037482fd",
   "metadata": {},
   "outputs": [
    {
     "data": {
      "text/html": [
       "<div>\n",
       "<style scoped>\n",
       "    .dataframe tbody tr th:only-of-type {\n",
       "        vertical-align: middle;\n",
       "    }\n",
       "\n",
       "    .dataframe tbody tr th {\n",
       "        vertical-align: top;\n",
       "    }\n",
       "\n",
       "    .dataframe thead th {\n",
       "        text-align: right;\n",
       "    }\n",
       "</style>\n",
       "<table border=\"1\" class=\"dataframe\">\n",
       "  <thead>\n",
       "    <tr style=\"text-align: right;\">\n",
       "      <th></th>\n",
       "      <th>date</th>\n",
       "      <th>snowfall</th>\n",
       "      <th>location</th>\n",
       "    </tr>\n",
       "  </thead>\n",
       "  <tbody>\n",
       "    <tr>\n",
       "      <th>Buffalo Blizzard of 1977</th>\n",
       "      <td>1977-01-27</td>\n",
       "      <td>150.0</td>\n",
       "      <td>New York</td>\n",
       "    </tr>\n",
       "    <tr>\n",
       "      <th>Great Snow of 1717</th>\n",
       "      <td>1717-03-01</td>\n",
       "      <td>122.0</td>\n",
       "      <td>New England</td>\n",
       "    </tr>\n",
       "    <tr>\n",
       "      <th>Mount Shasta Blizzard of 1959</th>\n",
       "      <td>1959-02-19</td>\n",
       "      <td>480.0</td>\n",
       "      <td>California</td>\n",
       "    </tr>\n",
       "  </tbody>\n",
       "</table>\n",
       "</div>"
      ],
      "text/plain": [
       "                                     date  snowfall     location\n",
       "Buffalo Blizzard of 1977       1977-01-27     150.0     New York\n",
       "Great Snow of 1717             1717-03-01     122.0  New England\n",
       "Mount Shasta Blizzard of 1959  1959-02-19     480.0   California"
      ]
     },
     "execution_count": 49,
     "metadata": {},
     "output_type": "execute_result"
    }
   ],
   "source": [
    "blizzards[((blizzards.snowfall > 100) & (blizzards.date > '1900-01-01')) | (blizzards.location.str.contains('New'))]"
   ]
  },
  {
   "cell_type": "code",
   "execution_count": 50,
   "id": "2471e97a-8e39-440b-b0bd-57d3e92b971d",
   "metadata": {},
   "outputs": [
    {
     "data": {
      "text/html": [
       "<div>\n",
       "<style scoped>\n",
       "    .dataframe tbody tr th:only-of-type {\n",
       "        vertical-align: middle;\n",
       "    }\n",
       "\n",
       "    .dataframe tbody tr th {\n",
       "        vertical-align: top;\n",
       "    }\n",
       "\n",
       "    .dataframe thead th {\n",
       "        text-align: right;\n",
       "    }\n",
       "</style>\n",
       "<table border=\"1\" class=\"dataframe\">\n",
       "  <thead>\n",
       "    <tr style=\"text-align: right;\">\n",
       "      <th></th>\n",
       "      <th>date</th>\n",
       "      <th>snowfall</th>\n",
       "      <th>location</th>\n",
       "    </tr>\n",
       "  </thead>\n",
       "  <tbody>\n",
       "    <tr>\n",
       "      <th>Buffalo Blizzard of 1977</th>\n",
       "      <td>1977-01-27</td>\n",
       "      <td>150.0</td>\n",
       "      <td>New York</td>\n",
       "    </tr>\n",
       "    <tr>\n",
       "      <th>Great Snow of 1717</th>\n",
       "      <td>1717-03-01</td>\n",
       "      <td>122.0</td>\n",
       "      <td>New England</td>\n",
       "    </tr>\n",
       "    <tr>\n",
       "      <th>Mount Shasta Blizzard of 1959</th>\n",
       "      <td>1959-02-19</td>\n",
       "      <td>480.0</td>\n",
       "      <td>California</td>\n",
       "    </tr>\n",
       "  </tbody>\n",
       "</table>\n",
       "</div>"
      ],
      "text/plain": [
       "                                     date  snowfall     location\n",
       "Buffalo Blizzard of 1977       1977-01-27     150.0     New York\n",
       "Great Snow of 1717             1717-03-01     122.0  New England\n",
       "Mount Shasta Blizzard of 1959  1959-02-19     480.0   California"
      ]
     },
     "execution_count": 50,
     "metadata": {},
     "output_type": "execute_result"
    }
   ],
   "source": [
    "blizzards.query(\"(snowfall > 100 and date > '1900-01-01') or (location.str.contains('New').values)\") #Querying"
   ]
  },
  {
   "cell_type": "code",
   "execution_count": null,
   "id": "e86dad50-4b2b-432a-82ae-dab17a817490",
   "metadata": {},
   "outputs": [],
   "source": []
  }
 ],
 "metadata": {
  "kernelspec": {
   "display_name": "venv",
   "language": "python",
   "name": "venv"
  },
  "language_info": {
   "codemirror_mode": {
    "name": "ipython",
    "version": 3
   },
   "file_extension": ".py",
   "mimetype": "text/x-python",
   "name": "python",
   "nbconvert_exporter": "python",
   "pygments_lexer": "ipython3",
   "version": "3.10.8"
  }
 },
 "nbformat": 4,
 "nbformat_minor": 5
}
