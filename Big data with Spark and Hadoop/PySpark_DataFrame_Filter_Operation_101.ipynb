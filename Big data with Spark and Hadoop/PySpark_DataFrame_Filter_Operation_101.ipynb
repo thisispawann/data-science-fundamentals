{
 "cells": [
  {
   "attachments": {},
   "cell_type": "markdown",
   "metadata": {},
   "source": [
    "<code>PySpark Filter Operation</code>\n",
    "\n",
    "* &, |, ==\n",
    "* ~ "
   ]
  },
  {
   "attachments": {},
   "cell_type": "markdown",
   "metadata": {},
   "source": [
    "<code>Create SparkSession</code>"
   ]
  },
  {
   "cell_type": "code",
   "execution_count": 1,
   "metadata": {},
   "outputs": [],
   "source": [
    "from pyspark.sql import SparkSession\n",
    "spark = SparkSession.builder.appName('console').getOrCreate()"
   ]
  },
  {
   "cell_type": "code",
   "execution_count": 20,
   "metadata": {},
   "outputs": [],
   "source": [
    "# read dataset\n",
    "df = spark.read.csv('users.csv', header=True, inferSchema=True)"
   ]
  },
  {
   "cell_type": "code",
   "execution_count": 6,
   "metadata": {},
   "outputs": [
    {
     "name": "stdout",
     "output_type": "stream",
     "text": [
      "+----------+---------+-----+\n",
      "|  language|framework|users|\n",
      "+----------+---------+-----+\n",
      "|    Python|   Django|40000|\n",
      "|    Python|  FastAPI| 9000|\n",
      "|      Java|Hibernate| 7000|\n",
      "|JavaScript|   NodeJS| 5000|\n",
      "+----------+---------+-----+\n",
      "\n"
     ]
    }
   ],
   "source": [
    "df.show()"
   ]
  },
  {
   "attachments": {},
   "cell_type": "markdown",
   "metadata": {},
   "source": [
    "<code>Filter Operation</code>"
   ]
  },
  {
   "cell_type": "code",
   "execution_count": 22,
   "metadata": {},
   "outputs": [],
   "source": [
    "# salary of users less than or equal to 10000\n",
    "df_pyspark = df.filter('users <= 10000')"
   ]
  },
  {
   "cell_type": "code",
   "execution_count": 23,
   "metadata": {},
   "outputs": [
    {
     "name": "stdout",
     "output_type": "stream",
     "text": [
      "+----------+---------+-----+\n",
      "|  language|framework|users|\n",
      "+----------+---------+-----+\n",
      "|    Python|  FastAPI| 9000|\n",
      "|      Java|Hibernate| 7000|\n",
      "|JavaScript|   NodeJS| 5000|\n",
      "+----------+---------+-----+\n",
      "\n"
     ]
    }
   ],
   "source": [
    "df_pyspark.show()"
   ]
  },
  {
   "cell_type": "code",
   "execution_count": 24,
   "metadata": {},
   "outputs": [],
   "source": [
    "# show only language and framework whose have less than 10000 users\n",
    "df_pyspark = df.filter('users <= 10000').select(['language', 'framework'])"
   ]
  },
  {
   "cell_type": "code",
   "execution_count": 25,
   "metadata": {},
   "outputs": [
    {
     "name": "stdout",
     "output_type": "stream",
     "text": [
      "+----------+---------+\n",
      "|  language|framework|\n",
      "+----------+---------+\n",
      "|    Python|  FastAPI|\n",
      "|      Java|Hibernate|\n",
      "|JavaScript|   NodeJS|\n",
      "+----------+---------+\n",
      "\n"
     ]
    }
   ],
   "source": [
    "df_pyspark.show()"
   ]
  },
  {
   "cell_type": "code",
   "execution_count": 27,
   "metadata": {},
   "outputs": [],
   "source": [
    "df_pyspark = df.filter('users <= 10000')"
   ]
  },
  {
   "cell_type": "code",
   "execution_count": 30,
   "metadata": {},
   "outputs": [
    {
     "name": "stdout",
     "output_type": "stream",
     "text": [
      "+----------+---------+-----+\n",
      "|  language|framework|users|\n",
      "+----------+---------+-----+\n",
      "|    Python|  FastAPI| 9000|\n",
      "|      Java|Hibernate| 7000|\n",
      "|JavaScript|   NodeJS| 5000|\n",
      "+----------+---------+-----+\n",
      "\n"
     ]
    }
   ],
   "source": [
    "df_pyspark.show()"
   ]
  },
  {
   "cell_type": "code",
   "execution_count": 32,
   "metadata": {},
   "outputs": [
    {
     "name": "stdout",
     "output_type": "stream",
     "text": [
      "+----------+---------+-----+\n",
      "|  language|framework|users|\n",
      "+----------+---------+-----+\n",
      "|    Python|  FastAPI| 9000|\n",
      "|      Java|Hibernate| 7000|\n",
      "|JavaScript|   NodeJS| 5000|\n",
      "+----------+---------+-----+\n",
      "\n"
     ]
    }
   ],
   "source": [
    "df_pyspark.filter((df_pyspark['users']<=10000) & (df_pyspark['users']>=3000)).show()               "
   ]
  },
  {
   "cell_type": "code",
   "execution_count": 33,
   "metadata": {},
   "outputs": [
    {
     "name": "stdout",
     "output_type": "stream",
     "text": [
      "+----------+---------+-----+\n",
      "|  language|framework|users|\n",
      "+----------+---------+-----+\n",
      "|    Python|  FastAPI| 9000|\n",
      "|      Java|Hibernate| 7000|\n",
      "|JavaScript|   NodeJS| 5000|\n",
      "+----------+---------+-----+\n",
      "\n"
     ]
    }
   ],
   "source": [
    "df_pyspark.filter((df_pyspark['users']<=10000) | (df_pyspark['users']>=3000)).show()"
   ]
  },
  {
   "cell_type": "code",
   "execution_count": 39,
   "metadata": {},
   "outputs": [
    {
     "name": "stdout",
     "output_type": "stream",
     "text": [
      "+--------+---------+-----+\n",
      "|language|framework|users|\n",
      "+--------+---------+-----+\n",
      "|  Python|  FastAPI| 9000|\n",
      "|    Java|Hibernate| 7000|\n",
      "+--------+---------+-----+\n",
      "\n"
     ]
    }
   ],
   "source": [
    "# not less than or equal to 5000\n",
    "df_pyspark.filter(~(df_pyspark['users']<=5000)).show()"
   ]
  }
 ],
 "metadata": {
  "kernelspec": {
   "display_name": "venv",
   "language": "python",
   "name": "python3"
  },
  "language_info": {
   "codemirror_mode": {
    "name": "ipython",
    "version": 3
   },
   "file_extension": ".py",
   "mimetype": "text/x-python",
   "name": "python",
   "nbconvert_exporter": "python",
   "pygments_lexer": "ipython3",
   "version": "3.10.0"
  },
  "orig_nbformat": 4,
  "vscode": {
   "interpreter": {
    "hash": "e10060ad54af1f91f5de5e4e50e0602defab201c8225bb5f2d748a943f24cad5"
   }
  }
 },
 "nbformat": 4,
 "nbformat_minor": 2
}
